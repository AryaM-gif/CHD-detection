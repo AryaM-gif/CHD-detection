{
  "cells": [
    {
      "cell_type": "markdown",
      "metadata": {
        "id": "4LGxY_yMQO3B"
      },
      "source": [
        "Install required packages"
      ]
    },
    {
      "cell_type": "code",
      "execution_count": null,
      "metadata": {
        "colab": {
          "base_uri": "https://localhost:8080/"
        },
        "collapsed": true,
        "id": "iKRGm1V1OVbO",
        "outputId": "3d934c9a-e6b1-42af-eaf9-12883899c5ad"
      },
      "outputs": [
        {
          "name": "stdout",
          "output_type": "stream",
          "text": [
            "Collecting wfdb\n",
            "  Downloading wfdb-4.3.0-py3-none-any.whl.metadata (3.8 kB)\n",
            "Requirement already satisfied: aiohttp>=3.10.11 in /usr/local/lib/python3.11/dist-packages (from wfdb) (3.11.15)\n",
            "Requirement already satisfied: fsspec>=2023.10.0 in /usr/local/lib/python3.11/dist-packages (from wfdb) (2025.3.2)\n",
            "Requirement already satisfied: matplotlib>=3.2.2 in /usr/local/lib/python3.11/dist-packages (from wfdb) (3.10.0)\n",
            "Requirement already satisfied: numpy>=1.26.4 in /usr/local/lib/python3.11/dist-packages (from wfdb) (2.0.2)\n",
            "Collecting pandas>=2.2.3 (from wfdb)\n",
            "  Downloading pandas-2.3.0-cp311-cp311-manylinux_2_17_x86_64.manylinux2014_x86_64.whl.metadata (91 kB)\n",
            "\u001b[2K     \u001b[90m━━━━━━━━━━━━━━━━━━━━━━━━━━━━━━━━━━━━━━━━\u001b[0m \u001b[32m91.2/91.2 kB\u001b[0m \u001b[31m2.3 MB/s\u001b[0m eta \u001b[36m0:00:00\u001b[0m\n",
            "\u001b[?25hRequirement already satisfied: requests>=2.8.1 in /usr/local/lib/python3.11/dist-packages (from wfdb) (2.32.3)\n",
            "Requirement already satisfied: scipy>=1.13.0 in /usr/local/lib/python3.11/dist-packages (from wfdb) (1.15.3)\n",
            "Requirement already satisfied: soundfile>=0.10.0 in /usr/local/lib/python3.11/dist-packages (from wfdb) (0.13.1)\n",
            "Requirement already satisfied: aiohappyeyeballs>=2.3.0 in /usr/local/lib/python3.11/dist-packages (from aiohttp>=3.10.11->wfdb) (2.6.1)\n",
            "Requirement already satisfied: aiosignal>=1.1.2 in /usr/local/lib/python3.11/dist-packages (from aiohttp>=3.10.11->wfdb) (1.3.2)\n",
            "Requirement already satisfied: attrs>=17.3.0 in /usr/local/lib/python3.11/dist-packages (from aiohttp>=3.10.11->wfdb) (25.3.0)\n",
            "Requirement already satisfied: frozenlist>=1.1.1 in /usr/local/lib/python3.11/dist-packages (from aiohttp>=3.10.11->wfdb) (1.6.0)\n",
            "Requirement already satisfied: multidict<7.0,>=4.5 in /usr/local/lib/python3.11/dist-packages (from aiohttp>=3.10.11->wfdb) (6.4.4)\n",
            "Requirement already satisfied: propcache>=0.2.0 in /usr/local/lib/python3.11/dist-packages (from aiohttp>=3.10.11->wfdb) (0.3.1)\n",
            "Requirement already satisfied: yarl<2.0,>=1.17.0 in /usr/local/lib/python3.11/dist-packages (from aiohttp>=3.10.11->wfdb) (1.20.0)\n",
            "Requirement already satisfied: contourpy>=1.0.1 in /usr/local/lib/python3.11/dist-packages (from matplotlib>=3.2.2->wfdb) (1.3.2)\n",
            "Requirement already satisfied: cycler>=0.10 in /usr/local/lib/python3.11/dist-packages (from matplotlib>=3.2.2->wfdb) (0.12.1)\n",
            "Requirement already satisfied: fonttools>=4.22.0 in /usr/local/lib/python3.11/dist-packages (from matplotlib>=3.2.2->wfdb) (4.58.1)\n",
            "Requirement already satisfied: kiwisolver>=1.3.1 in /usr/local/lib/python3.11/dist-packages (from matplotlib>=3.2.2->wfdb) (1.4.8)\n",
            "Requirement already satisfied: packaging>=20.0 in /usr/local/lib/python3.11/dist-packages (from matplotlib>=3.2.2->wfdb) (24.2)\n",
            "Requirement already satisfied: pillow>=8 in /usr/local/lib/python3.11/dist-packages (from matplotlib>=3.2.2->wfdb) (11.2.1)\n",
            "Requirement already satisfied: pyparsing>=2.3.1 in /usr/local/lib/python3.11/dist-packages (from matplotlib>=3.2.2->wfdb) (3.2.3)\n",
            "Requirement already satisfied: python-dateutil>=2.7 in /usr/local/lib/python3.11/dist-packages (from matplotlib>=3.2.2->wfdb) (2.9.0.post0)\n",
            "Requirement already satisfied: pytz>=2020.1 in /usr/local/lib/python3.11/dist-packages (from pandas>=2.2.3->wfdb) (2025.2)\n",
            "Requirement already satisfied: tzdata>=2022.7 in /usr/local/lib/python3.11/dist-packages (from pandas>=2.2.3->wfdb) (2025.2)\n",
            "Requirement already satisfied: charset-normalizer<4,>=2 in /usr/local/lib/python3.11/dist-packages (from requests>=2.8.1->wfdb) (3.4.2)\n",
            "Requirement already satisfied: idna<4,>=2.5 in /usr/local/lib/python3.11/dist-packages (from requests>=2.8.1->wfdb) (3.10)\n",
            "Requirement already satisfied: urllib3<3,>=1.21.1 in /usr/local/lib/python3.11/dist-packages (from requests>=2.8.1->wfdb) (2.4.0)\n",
            "Requirement already satisfied: certifi>=2017.4.17 in /usr/local/lib/python3.11/dist-packages (from requests>=2.8.1->wfdb) (2025.4.26)\n",
            "Requirement already satisfied: cffi>=1.0 in /usr/local/lib/python3.11/dist-packages (from soundfile>=0.10.0->wfdb) (1.17.1)\n",
            "Requirement already satisfied: pycparser in /usr/local/lib/python3.11/dist-packages (from cffi>=1.0->soundfile>=0.10.0->wfdb) (2.22)\n",
            "Requirement already satisfied: six>=1.5 in /usr/local/lib/python3.11/dist-packages (from python-dateutil>=2.7->matplotlib>=3.2.2->wfdb) (1.17.0)\n",
            "Downloading wfdb-4.3.0-py3-none-any.whl (163 kB)\n",
            "\u001b[2K   \u001b[90m━━━━━━━━━━━━━━━━━━━━━━━━━━━━━━━━━━━━━━━━\u001b[0m \u001b[32m163.8/163.8 kB\u001b[0m \u001b[31m5.6 MB/s\u001b[0m eta \u001b[36m0:00:00\u001b[0m\n",
            "\u001b[?25hDownloading pandas-2.3.0-cp311-cp311-manylinux_2_17_x86_64.manylinux2014_x86_64.whl (12.4 MB)\n",
            "\u001b[2K   \u001b[90m━━━━━━━━━━━━━━━━━━━━━━━━━━━━━━━━━━━━━━━━\u001b[0m \u001b[32m12.4/12.4 MB\u001b[0m \u001b[31m81.3 MB/s\u001b[0m eta \u001b[36m0:00:00\u001b[0m\n",
            "\u001b[?25hInstalling collected packages: pandas, wfdb\n",
            "  Attempting uninstall: pandas\n",
            "    Found existing installation: pandas 2.2.2\n",
            "    Uninstalling pandas-2.2.2:\n",
            "      Successfully uninstalled pandas-2.2.2\n",
            "\u001b[31mERROR: pip's dependency resolver does not currently take into account all the packages that are installed. This behaviour is the source of the following dependency conflicts.\n",
            "google-colab 1.0.0 requires pandas==2.2.2, but you have pandas 2.3.0 which is incompatible.\n",
            "cudf-cu12 25.2.1 requires pandas<2.2.4dev0,>=2.0, but you have pandas 2.3.0 which is incompatible.\n",
            "dask-cudf-cu12 25.2.2 requires pandas<2.2.4dev0,>=2.0, but you have pandas 2.3.0 which is incompatible.\u001b[0m\u001b[31m\n",
            "\u001b[0mSuccessfully installed pandas-2.3.0 wfdb-4.3.0\n",
            "Requirement already satisfied: numpy in /usr/local/lib/python3.11/dist-packages (2.0.2)\n",
            "Requirement already satisfied: pandas in /usr/local/lib/python3.11/dist-packages (2.3.0)\n",
            "Requirement already satisfied: matplotlib in /usr/local/lib/python3.11/dist-packages (3.10.0)\n",
            "Requirement already satisfied: scikit-learn in /usr/local/lib/python3.11/dist-packages (1.6.1)\n",
            "Requirement already satisfied: tensorflow in /usr/local/lib/python3.11/dist-packages (2.18.0)\n",
            "Requirement already satisfied: python-dateutil>=2.8.2 in /usr/local/lib/python3.11/dist-packages (from pandas) (2.9.0.post0)\n",
            "Requirement already satisfied: pytz>=2020.1 in /usr/local/lib/python3.11/dist-packages (from pandas) (2025.2)\n",
            "Requirement already satisfied: tzdata>=2022.7 in /usr/local/lib/python3.11/dist-packages (from pandas) (2025.2)\n",
            "Requirement already satisfied: contourpy>=1.0.1 in /usr/local/lib/python3.11/dist-packages (from matplotlib) (1.3.2)\n",
            "Requirement already satisfied: cycler>=0.10 in /usr/local/lib/python3.11/dist-packages (from matplotlib) (0.12.1)\n",
            "Requirement already satisfied: fonttools>=4.22.0 in /usr/local/lib/python3.11/dist-packages (from matplotlib) (4.58.1)\n",
            "Requirement already satisfied: kiwisolver>=1.3.1 in /usr/local/lib/python3.11/dist-packages (from matplotlib) (1.4.8)\n",
            "Requirement already satisfied: packaging>=20.0 in /usr/local/lib/python3.11/dist-packages (from matplotlib) (24.2)\n",
            "Requirement already satisfied: pillow>=8 in /usr/local/lib/python3.11/dist-packages (from matplotlib) (11.2.1)\n",
            "Requirement already satisfied: pyparsing>=2.3.1 in /usr/local/lib/python3.11/dist-packages (from matplotlib) (3.2.3)\n",
            "Requirement already satisfied: scipy>=1.6.0 in /usr/local/lib/python3.11/dist-packages (from scikit-learn) (1.15.3)\n",
            "Requirement already satisfied: joblib>=1.2.0 in /usr/local/lib/python3.11/dist-packages (from scikit-learn) (1.5.1)\n",
            "Requirement already satisfied: threadpoolctl>=3.1.0 in /usr/local/lib/python3.11/dist-packages (from scikit-learn) (3.6.0)\n",
            "Requirement already satisfied: absl-py>=1.0.0 in /usr/local/lib/python3.11/dist-packages (from tensorflow) (1.4.0)\n",
            "Requirement already satisfied: astunparse>=1.6.0 in /usr/local/lib/python3.11/dist-packages (from tensorflow) (1.6.3)\n",
            "Requirement already satisfied: flatbuffers>=24.3.25 in /usr/local/lib/python3.11/dist-packages (from tensorflow) (25.2.10)\n",
            "Requirement already satisfied: gast!=0.5.0,!=0.5.1,!=0.5.2,>=0.2.1 in /usr/local/lib/python3.11/dist-packages (from tensorflow) (0.6.0)\n",
            "Requirement already satisfied: google-pasta>=0.1.1 in /usr/local/lib/python3.11/dist-packages (from tensorflow) (0.2.0)\n",
            "Requirement already satisfied: libclang>=13.0.0 in /usr/local/lib/python3.11/dist-packages (from tensorflow) (18.1.1)\n",
            "Requirement already satisfied: opt-einsum>=2.3.2 in /usr/local/lib/python3.11/dist-packages (from tensorflow) (3.4.0)\n",
            "Requirement already satisfied: protobuf!=4.21.0,!=4.21.1,!=4.21.2,!=4.21.3,!=4.21.4,!=4.21.5,<6.0.0dev,>=3.20.3 in /usr/local/lib/python3.11/dist-packages (from tensorflow) (5.29.5)\n",
            "Requirement already satisfied: requests<3,>=2.21.0 in /usr/local/lib/python3.11/dist-packages (from tensorflow) (2.32.3)\n",
            "Requirement already satisfied: setuptools in /usr/local/lib/python3.11/dist-packages (from tensorflow) (75.2.0)\n",
            "Requirement already satisfied: six>=1.12.0 in /usr/local/lib/python3.11/dist-packages (from tensorflow) (1.17.0)\n",
            "Requirement already satisfied: termcolor>=1.1.0 in /usr/local/lib/python3.11/dist-packages (from tensorflow) (3.1.0)\n",
            "Requirement already satisfied: typing-extensions>=3.6.6 in /usr/local/lib/python3.11/dist-packages (from tensorflow) (4.14.0)\n",
            "Requirement already satisfied: wrapt>=1.11.0 in /usr/local/lib/python3.11/dist-packages (from tensorflow) (1.17.2)\n",
            "Requirement already satisfied: grpcio<2.0,>=1.24.3 in /usr/local/lib/python3.11/dist-packages (from tensorflow) (1.72.1)\n",
            "Requirement already satisfied: tensorboard<2.19,>=2.18 in /usr/local/lib/python3.11/dist-packages (from tensorflow) (2.18.0)\n",
            "Requirement already satisfied: keras>=3.5.0 in /usr/local/lib/python3.11/dist-packages (from tensorflow) (3.8.0)\n",
            "Requirement already satisfied: h5py>=3.11.0 in /usr/local/lib/python3.11/dist-packages (from tensorflow) (3.13.0)\n",
            "Requirement already satisfied: ml-dtypes<0.5.0,>=0.4.0 in /usr/local/lib/python3.11/dist-packages (from tensorflow) (0.4.1)\n",
            "Requirement already satisfied: tensorflow-io-gcs-filesystem>=0.23.1 in /usr/local/lib/python3.11/dist-packages (from tensorflow) (0.37.1)\n",
            "Requirement already satisfied: wheel<1.0,>=0.23.0 in /usr/local/lib/python3.11/dist-packages (from astunparse>=1.6.0->tensorflow) (0.45.1)\n",
            "Requirement already satisfied: rich in /usr/local/lib/python3.11/dist-packages (from keras>=3.5.0->tensorflow) (13.9.4)\n",
            "Requirement already satisfied: namex in /usr/local/lib/python3.11/dist-packages (from keras>=3.5.0->tensorflow) (0.1.0)\n",
            "Requirement already satisfied: optree in /usr/local/lib/python3.11/dist-packages (from keras>=3.5.0->tensorflow) (0.16.0)\n",
            "Requirement already satisfied: charset-normalizer<4,>=2 in /usr/local/lib/python3.11/dist-packages (from requests<3,>=2.21.0->tensorflow) (3.4.2)\n",
            "Requirement already satisfied: idna<4,>=2.5 in /usr/local/lib/python3.11/dist-packages (from requests<3,>=2.21.0->tensorflow) (3.10)\n",
            "Requirement already satisfied: urllib3<3,>=1.21.1 in /usr/local/lib/python3.11/dist-packages (from requests<3,>=2.21.0->tensorflow) (2.4.0)\n",
            "Requirement already satisfied: certifi>=2017.4.17 in /usr/local/lib/python3.11/dist-packages (from requests<3,>=2.21.0->tensorflow) (2025.4.26)\n",
            "Requirement already satisfied: markdown>=2.6.8 in /usr/local/lib/python3.11/dist-packages (from tensorboard<2.19,>=2.18->tensorflow) (3.8)\n",
            "Requirement already satisfied: tensorboard-data-server<0.8.0,>=0.7.0 in /usr/local/lib/python3.11/dist-packages (from tensorboard<2.19,>=2.18->tensorflow) (0.7.2)\n",
            "Requirement already satisfied: werkzeug>=1.0.1 in /usr/local/lib/python3.11/dist-packages (from tensorboard<2.19,>=2.18->tensorflow) (3.1.3)\n",
            "Requirement already satisfied: MarkupSafe>=2.1.1 in /usr/local/lib/python3.11/dist-packages (from werkzeug>=1.0.1->tensorboard<2.19,>=2.18->tensorflow) (3.0.2)\n",
            "Requirement already satisfied: markdown-it-py>=2.2.0 in /usr/local/lib/python3.11/dist-packages (from rich->keras>=3.5.0->tensorflow) (3.0.0)\n",
            "Requirement already satisfied: pygments<3.0.0,>=2.13.0 in /usr/local/lib/python3.11/dist-packages (from rich->keras>=3.5.0->tensorflow) (2.19.1)\n",
            "Requirement already satisfied: mdurl~=0.1 in /usr/local/lib/python3.11/dist-packages (from markdown-it-py>=2.2.0->rich->keras>=3.5.0->tensorflow) (0.1.2)\n"
          ]
        }
      ],
      "source": [
        "                                                                                                            # Step 1: Install required package\n",
        "!pip install wfdb\n",
        "!pip install numpy pandas matplotlib scikit-learn tensorflow\n",
        "#!pip install torch\n"
      ]
    },
    {
      "cell_type": "markdown",
      "metadata": {
        "id": "tkXcQiaeQSYq"
      },
      "source": [
        "Mount Google Drive"
      ]
    },
    {
      "cell_type": "code",
      "execution_count": null,
      "metadata": {
        "colab": {
          "base_uri": "https://localhost:8080/"
        },
        "id": "QaitnzzlOa07",
        "outputId": "5f5bb4c1-99ac-4208-cc0a-9c82c7fd6258"
      },
      "outputs": [
        {
          "name": "stdout",
          "output_type": "stream",
          "text": [
            "Mounted at /content/drive\n"
          ]
        }
      ],
      "source": [
        "# %%\n",
        "from google.colab import drive\n",
        "drive.mount('/content/drive')"
      ]
    },
    {
      "cell_type": "markdown",
      "metadata": {
        "id": "MsCwIbD_QXAg"
      },
      "source": [
        "Import Libraries"
      ]
    },
    {
      "cell_type": "code",
      "execution_count": null,
      "metadata": {
        "id": "Cd74zKulOdUG"
      },
      "outputs": [],
      "source": [
        "\n",
        "\n",
        "\n",
        "import wfdb\n",
        "import pandas as pd\n",
        "import numpy as np\n",
        "import os\n",
        "import matplotlib.pyplot as plt\n",
        "from sklearn.model_selection import train_test_split\n",
        "from sklearn.metrics import classification_report, confusion_matrix, accuracy_score\n",
        "from scipy.signal import butter, filtfilt\n",
        "from tensorflow.keras.models import Sequential\n",
        "from tensorflow.keras.layers import Conv1D, MaxPooling1D, Flatten, Dense, Dropout, BatchNormalization\n",
        "from tensorflow.keras.callbacks import EarlyStopping, ReduceLROnPlateau\n",
        "from sklearn.utils import class_weight # Import class_weight\n",
        "import tensorflow as tf # Import tensorflow\n",
        "import glob # Ensure glob is imported early if not already\n",
        "\n"
      ]
    },
    {
      "cell_type": "markdown",
      "metadata": {
        "id": "pUl3v8JqQZIV"
      },
      "source": [
        "Define data folder path"
      ]
    },
    {
      "cell_type": "code",
      "execution_count": null,
      "metadata": {
        "colab": {
          "base_uri": "https://localhost:8080/"
        },
        "id": "oEt3GwVjQvPT",
        "outputId": "c5f10ef7-4822-4964-adc5-4fda10ef2c96"
      },
      "outputs": [
        {
          "name": "stdout",
          "output_type": "stream",
          "text": [
            "Metadata loaded.\n"
          ]
        }
      ],
      "source": [
        "# %%\n",
        "# Step 4: Define your data folder path\n",
        "base = '/content/drive/MyDrive/leipzig-heart-center-ecg-database-arrhythmias-in-children-and-patients-with-congenital-heart-disease-1.0.0'\n",
        "folder_path = base\n",
        "\n",
        "\n",
        "try:\n",
        "    child_info = pd.read_csv(f'{base}/children-subject-info.csv')\n",
        "    adult_info = pd.read_csv(f'{base}/adults-subject-info.csv')\n",
        "    dataset_info = pd.read_csv(f'{base}/dataset_info.csv')\n",
        "    print(\"Metadata loaded.\")\n",
        "except FileNotFoundError:\n",
        "    child_info = adult_info = dataset_info = None\n",
        "    print(\"Metadata files not found; skipping.\")"
      ]
    },
    {
      "cell_type": "markdown",
      "metadata": {
        "id": "OYll0kJcGiUf"
      },
      "source": [
        "# Visulizaiton"
      ]
    },
    {
      "cell_type": "code",
      "execution_count": null,
      "metadata": {
        "colab": {
          "base_uri": "https://localhost:8080/",
          "height": 1000
        },
        "collapsed": true,
        "id": "XfkGzN5VmKr1",
        "outputId": "b18486bc-5b3e-4f1d-87ba-925875eb4bd6"
      },
      "outputs": [
        {
          "name": "stdout",
          "output_type": "stream",
          "text": [
            "Analyzing annotation distribution (processing  records)...\n",
            "\n",
            "Annotation Symbol Distribution ( records):\n",
            "X    14979\n",
            "N    13477\n",
            "R     5989\n",
            "/     4051\n",
            "V      992\n",
            "+      826\n",
            "Q      307\n",
            "A      109\n",
            "a       93\n",
            "F       90\n",
            "J       59\n",
            "~       56\n",
            "f       26\n",
            "b        1\n",
            "Name: count, dtype: int64\n",
            "\n",
            "Children Subject Info:\n"
          ]
        },
        {
          "data": {
            "application/vnd.google.colaboratory.intrinsic+json": {
              "summary": "{\n  \"name\": \"    print(\\\"\\\\nNo record names available to check sample record properties\",\n  \"rows\": 5,\n  \"fields\": [\n    {\n      \"column\": \"subject_id\",\n      \"properties\": {\n        \"dtype\": \"number\",\n        \"std\": 1,\n        \"min\": 1,\n        \"max\": 5,\n        \"num_unique_values\": 5,\n        \"samples\": [\n          2,\n          5,\n          3\n        ],\n        \"semantic_type\": \"\",\n        \"description\": \"\"\n      }\n    },\n    {\n      \"column\": \"file_name\",\n      \"properties\": {\n        \"dtype\": \"string\",\n        \"num_unique_values\": 5,\n        \"samples\": [\n          \"x002\",\n          \"x005\",\n          \"x003\"\n        ],\n        \"semantic_type\": \"\",\n        \"description\": \"\"\n      }\n    },\n    {\n      \"column\": \"gender\",\n      \"properties\": {\n        \"dtype\": \"category\",\n        \"num_unique_values\": 2,\n        \"samples\": [\n          \"F\",\n          \"M\"\n        ],\n        \"semantic_type\": \"\",\n        \"description\": \"\"\n      }\n    },\n    {\n      \"column\": \"age\",\n      \"properties\": {\n        \"dtype\": \"string\",\n        \"num_unique_values\": 5,\n        \"samples\": [\n          \"11\",\n          \"17.1\"\n        ],\n        \"semantic_type\": \"\",\n        \"description\": \"\"\n      }\n    },\n    {\n      \"column\": \"diagnosis\",\n      \"properties\": {\n        \"dtype\": \"string\",\n        \"num_unique_values\": 3,\n        \"samples\": [\n          \"AVRT\",\n          \"AVNRT\"\n        ],\n        \"semantic_type\": \"\",\n        \"description\": \"\"\n      }\n    },\n    {\n      \"column\": \"ap_loacation\",\n      \"properties\": {\n        \"dtype\": \"string\",\n        \"num_unique_values\": 4,\n        \"samples\": [\n          \"left lateral\",\n          \"left anterior\"\n        ],\n        \"semantic_type\": \"\",\n        \"description\": \"\"\n      }\n    },\n    {\n      \"column\": \"ecg_duration\",\n      \"properties\": {\n        \"dtype\": \"object\",\n        \"num_unique_values\": 5,\n        \"samples\": [\n          \"1:45:17.81\",\n          \"0:30:58.974\"\n        ],\n        \"semantic_type\": \"\",\n        \"description\": \"\"\n      }\n    }\n  ]\n}",
              "type": "dataframe"
            },
            "text/html": [
              "\n",
              "  <div id=\"df-af8e1023-1b7d-45d5-9a4f-cd3663a4b2be\" class=\"colab-df-container\">\n",
              "    <div>\n",
              "<style scoped>\n",
              "    .dataframe tbody tr th:only-of-type {\n",
              "        vertical-align: middle;\n",
              "    }\n",
              "\n",
              "    .dataframe tbody tr th {\n",
              "        vertical-align: top;\n",
              "    }\n",
              "\n",
              "    .dataframe thead th {\n",
              "        text-align: right;\n",
              "    }\n",
              "</style>\n",
              "<table border=\"1\" class=\"dataframe\">\n",
              "  <thead>\n",
              "    <tr style=\"text-align: right;\">\n",
              "      <th></th>\n",
              "      <th>subject_id</th>\n",
              "      <th>file_name</th>\n",
              "      <th>gender</th>\n",
              "      <th>age</th>\n",
              "      <th>diagnosis</th>\n",
              "      <th>ap_loacation</th>\n",
              "      <th>ecg_duration</th>\n",
              "    </tr>\n",
              "  </thead>\n",
              "  <tbody>\n",
              "    <tr>\n",
              "      <th>0</th>\n",
              "      <td>1</td>\n",
              "      <td>x001</td>\n",
              "      <td>M</td>\n",
              "      <td>6.6</td>\n",
              "      <td>AVRT</td>\n",
              "      <td>right posteroseptal</td>\n",
              "      <td>2:25:29.201</td>\n",
              "    </tr>\n",
              "    <tr>\n",
              "      <th>1</th>\n",
              "      <td>2</td>\n",
              "      <td>x002</td>\n",
              "      <td>M</td>\n",
              "      <td>11</td>\n",
              "      <td>AVNRT</td>\n",
              "      <td>NaN</td>\n",
              "      <td>1:45:17.81</td>\n",
              "    </tr>\n",
              "    <tr>\n",
              "      <th>2</th>\n",
              "      <td>3</td>\n",
              "      <td>x003</td>\n",
              "      <td>F</td>\n",
              "      <td>11.9</td>\n",
              "      <td>AVRT-WPW</td>\n",
              "      <td>left lateral</td>\n",
              "      <td>2:30:31.749</td>\n",
              "    </tr>\n",
              "    <tr>\n",
              "      <th>3</th>\n",
              "      <td>4</td>\n",
              "      <td>x004</td>\n",
              "      <td>M</td>\n",
              "      <td>14.8</td>\n",
              "      <td>AVRT-WPW</td>\n",
              "      <td>right posterior</td>\n",
              "      <td>2:17:52.426</td>\n",
              "    </tr>\n",
              "    <tr>\n",
              "      <th>4</th>\n",
              "      <td>5</td>\n",
              "      <td>x005</td>\n",
              "      <td>M</td>\n",
              "      <td>17.1</td>\n",
              "      <td>AVRT</td>\n",
              "      <td>left anterior</td>\n",
              "      <td>0:30:58.974</td>\n",
              "    </tr>\n",
              "  </tbody>\n",
              "</table>\n",
              "</div>\n",
              "    <div class=\"colab-df-buttons\">\n",
              "\n",
              "  <div class=\"colab-df-container\">\n",
              "    <button class=\"colab-df-convert\" onclick=\"convertToInteractive('df-af8e1023-1b7d-45d5-9a4f-cd3663a4b2be')\"\n",
              "            title=\"Convert this dataframe to an interactive table.\"\n",
              "            style=\"display:none;\">\n",
              "\n",
              "  <svg xmlns=\"http://www.w3.org/2000/svg\" height=\"24px\" viewBox=\"0 -960 960 960\">\n",
              "    <path d=\"M120-120v-720h720v720H120Zm60-500h600v-160H180v160Zm220 220h160v-160H400v160Zm0 220h160v-160H400v160ZM180-400h160v-160H180v160Zm440 0h160v-160H620v160ZM180-180h160v-160H180v160Zm440 0h160v-160H620v160Z\"/>\n",
              "  </svg>\n",
              "    </button>\n",
              "\n",
              "  <style>\n",
              "    .colab-df-container {\n",
              "      display:flex;\n",
              "      gap: 12px;\n",
              "    }\n",
              "\n",
              "    .colab-df-convert {\n",
              "      background-color: #E8F0FE;\n",
              "      border: none;\n",
              "      border-radius: 50%;\n",
              "      cursor: pointer;\n",
              "      display: none;\n",
              "      fill: #1967D2;\n",
              "      height: 32px;\n",
              "      padding: 0 0 0 0;\n",
              "      width: 32px;\n",
              "    }\n",
              "\n",
              "    .colab-df-convert:hover {\n",
              "      background-color: #E2EBFA;\n",
              "      box-shadow: 0px 1px 2px rgba(60, 64, 67, 0.3), 0px 1px 3px 1px rgba(60, 64, 67, 0.15);\n",
              "      fill: #174EA6;\n",
              "    }\n",
              "\n",
              "    .colab-df-buttons div {\n",
              "      margin-bottom: 4px;\n",
              "    }\n",
              "\n",
              "    [theme=dark] .colab-df-convert {\n",
              "      background-color: #3B4455;\n",
              "      fill: #D2E3FC;\n",
              "    }\n",
              "\n",
              "    [theme=dark] .colab-df-convert:hover {\n",
              "      background-color: #434B5C;\n",
              "      box-shadow: 0px 1px 3px 1px rgba(0, 0, 0, 0.15);\n",
              "      filter: drop-shadow(0px 1px 2px rgba(0, 0, 0, 0.3));\n",
              "      fill: #FFFFFF;\n",
              "    }\n",
              "  </style>\n",
              "\n",
              "    <script>\n",
              "      const buttonEl =\n",
              "        document.querySelector('#df-af8e1023-1b7d-45d5-9a4f-cd3663a4b2be button.colab-df-convert');\n",
              "      buttonEl.style.display =\n",
              "        google.colab.kernel.accessAllowed ? 'block' : 'none';\n",
              "\n",
              "      async function convertToInteractive(key) {\n",
              "        const element = document.querySelector('#df-af8e1023-1b7d-45d5-9a4f-cd3663a4b2be');\n",
              "        const dataTable =\n",
              "          await google.colab.kernel.invokeFunction('convertToInteractive',\n",
              "                                                    [key], {});\n",
              "        if (!dataTable) return;\n",
              "\n",
              "        const docLinkHtml = 'Like what you see? Visit the ' +\n",
              "          '<a target=\"_blank\" href=https://colab.research.google.com/notebooks/data_table.ipynb>data table notebook</a>'\n",
              "          + ' to learn more about interactive tables.';\n",
              "        element.innerHTML = '';\n",
              "        dataTable['output_type'] = 'display_data';\n",
              "        await google.colab.output.renderOutput(dataTable, element);\n",
              "        const docLink = document.createElement('div');\n",
              "        docLink.innerHTML = docLinkHtml;\n",
              "        element.appendChild(docLink);\n",
              "      }\n",
              "    </script>\n",
              "  </div>\n",
              "\n",
              "\n",
              "    <div id=\"df-56856028-1708-47d2-b5cd-3d7635316db6\">\n",
              "      <button class=\"colab-df-quickchart\" onclick=\"quickchart('df-56856028-1708-47d2-b5cd-3d7635316db6')\"\n",
              "                title=\"Suggest charts\"\n",
              "                style=\"display:none;\">\n",
              "\n",
              "<svg xmlns=\"http://www.w3.org/2000/svg\" height=\"24px\"viewBox=\"0 0 24 24\"\n",
              "     width=\"24px\">\n",
              "    <g>\n",
              "        <path d=\"M19 3H5c-1.1 0-2 .9-2 2v14c0 1.1.9 2 2 2h14c1.1 0 2-.9 2-2V5c0-1.1-.9-2-2-2zM9 17H7v-7h2v7zm4 0h-2V7h2v10zm4 0h-2v-4h2v4z\"/>\n",
              "    </g>\n",
              "</svg>\n",
              "      </button>\n",
              "\n",
              "<style>\n",
              "  .colab-df-quickchart {\n",
              "      --bg-color: #E8F0FE;\n",
              "      --fill-color: #1967D2;\n",
              "      --hover-bg-color: #E2EBFA;\n",
              "      --hover-fill-color: #174EA6;\n",
              "      --disabled-fill-color: #AAA;\n",
              "      --disabled-bg-color: #DDD;\n",
              "  }\n",
              "\n",
              "  [theme=dark] .colab-df-quickchart {\n",
              "      --bg-color: #3B4455;\n",
              "      --fill-color: #D2E3FC;\n",
              "      --hover-bg-color: #434B5C;\n",
              "      --hover-fill-color: #FFFFFF;\n",
              "      --disabled-bg-color: #3B4455;\n",
              "      --disabled-fill-color: #666;\n",
              "  }\n",
              "\n",
              "  .colab-df-quickchart {\n",
              "    background-color: var(--bg-color);\n",
              "    border: none;\n",
              "    border-radius: 50%;\n",
              "    cursor: pointer;\n",
              "    display: none;\n",
              "    fill: var(--fill-color);\n",
              "    height: 32px;\n",
              "    padding: 0;\n",
              "    width: 32px;\n",
              "  }\n",
              "\n",
              "  .colab-df-quickchart:hover {\n",
              "    background-color: var(--hover-bg-color);\n",
              "    box-shadow: 0 1px 2px rgba(60, 64, 67, 0.3), 0 1px 3px 1px rgba(60, 64, 67, 0.15);\n",
              "    fill: var(--button-hover-fill-color);\n",
              "  }\n",
              "\n",
              "  .colab-df-quickchart-complete:disabled,\n",
              "  .colab-df-quickchart-complete:disabled:hover {\n",
              "    background-color: var(--disabled-bg-color);\n",
              "    fill: var(--disabled-fill-color);\n",
              "    box-shadow: none;\n",
              "  }\n",
              "\n",
              "  .colab-df-spinner {\n",
              "    border: 2px solid var(--fill-color);\n",
              "    border-color: transparent;\n",
              "    border-bottom-color: var(--fill-color);\n",
              "    animation:\n",
              "      spin 1s steps(1) infinite;\n",
              "  }\n",
              "\n",
              "  @keyframes spin {\n",
              "    0% {\n",
              "      border-color: transparent;\n",
              "      border-bottom-color: var(--fill-color);\n",
              "      border-left-color: var(--fill-color);\n",
              "    }\n",
              "    20% {\n",
              "      border-color: transparent;\n",
              "      border-left-color: var(--fill-color);\n",
              "      border-top-color: var(--fill-color);\n",
              "    }\n",
              "    30% {\n",
              "      border-color: transparent;\n",
              "      border-left-color: var(--fill-color);\n",
              "      border-top-color: var(--fill-color);\n",
              "      border-right-color: var(--fill-color);\n",
              "    }\n",
              "    40% {\n",
              "      border-color: transparent;\n",
              "      border-right-color: var(--fill-color);\n",
              "      border-top-color: var(--fill-color);\n",
              "    }\n",
              "    60% {\n",
              "      border-color: transparent;\n",
              "      border-right-color: var(--fill-color);\n",
              "    }\n",
              "    80% {\n",
              "      border-color: transparent;\n",
              "      border-right-color: var(--fill-color);\n",
              "      border-bottom-color: var(--fill-color);\n",
              "    }\n",
              "    90% {\n",
              "      border-color: transparent;\n",
              "      border-bottom-color: var(--fill-color);\n",
              "    }\n",
              "  }\n",
              "</style>\n",
              "\n",
              "      <script>\n",
              "        async function quickchart(key) {\n",
              "          const quickchartButtonEl =\n",
              "            document.querySelector('#' + key + ' button');\n",
              "          quickchartButtonEl.disabled = true;  // To prevent multiple clicks.\n",
              "          quickchartButtonEl.classList.add('colab-df-spinner');\n",
              "          try {\n",
              "            const charts = await google.colab.kernel.invokeFunction(\n",
              "                'suggestCharts', [key], {});\n",
              "          } catch (error) {\n",
              "            console.error('Error during call to suggestCharts:', error);\n",
              "          }\n",
              "          quickchartButtonEl.classList.remove('colab-df-spinner');\n",
              "          quickchartButtonEl.classList.add('colab-df-quickchart-complete');\n",
              "        }\n",
              "        (() => {\n",
              "          let quickchartButtonEl =\n",
              "            document.querySelector('#df-56856028-1708-47d2-b5cd-3d7635316db6 button');\n",
              "          quickchartButtonEl.style.display =\n",
              "            google.colab.kernel.accessAllowed ? 'block' : 'none';\n",
              "        })();\n",
              "      </script>\n",
              "    </div>\n",
              "\n",
              "    </div>\n",
              "  </div>\n"
            ],
            "text/plain": [
              "   subject_id file_name gender   age diagnosis         ap_loacation  \\\n",
              "0           1      x001      M   6.6      AVRT  right posteroseptal   \n",
              "1           2      x002      M    11     AVNRT                  NaN   \n",
              "2           3      x003      F  11.9  AVRT-WPW         left lateral   \n",
              "3           4      x004      M  14.8  AVRT-WPW      right posterior   \n",
              "4           5      x005      M  17.1      AVRT        left anterior   \n",
              "\n",
              "  ecg_duration  \n",
              "0  2:25:29.201  \n",
              "1   1:45:17.81  \n",
              "2  2:30:31.749  \n",
              "3  2:17:52.426  \n",
              "4  0:30:58.974  "
            ]
          },
          "metadata": {},
          "output_type": "display_data"
        },
        {
          "name": "stdout",
          "output_type": "stream",
          "text": [
            "\n",
            "Children Subject Info Shape: (29, 7)\n",
            "\n",
            "Children Subject Info Columns:\n",
            " Index(['subject_id', 'file_name', 'gender', 'age', 'diagnosis', 'ap_loacation',\n",
            "       'ecg_duration'],\n",
            "      dtype='object')\n",
            "\n",
            "Adults Subject Info:\n"
          ]
        },
        {
          "data": {
            "application/vnd.google.colaboratory.intrinsic+json": {
              "summary": "{\n  \"name\": \"    print(\\\"\\\\nNo record names available to check sample record properties\",\n  \"rows\": 5,\n  \"fields\": [\n    {\n      \"column\": \"subject_id\",\n      \"properties\": {\n        \"dtype\": \"number\",\n        \"std\": 1,\n        \"min\": 100,\n        \"max\": 104,\n        \"num_unique_values\": 5,\n        \"samples\": [\n          101,\n          104,\n          102\n        ],\n        \"semantic_type\": \"\",\n        \"description\": \"\"\n      }\n    },\n    {\n      \"column\": \"file_name\",\n      \"properties\": {\n        \"dtype\": \"string\",\n        \"num_unique_values\": 5,\n        \"samples\": [\n          \"x101\",\n          \"x104\",\n          \"x102\"\n        ],\n        \"semantic_type\": \"\",\n        \"description\": \"\"\n      }\n    },\n    {\n      \"column\": \"gender\",\n      \"properties\": {\n        \"dtype\": \"category\",\n        \"num_unique_values\": 2,\n        \"samples\": [\n          \"F\",\n          \"M\"\n        ],\n        \"semantic_type\": \"\",\n        \"description\": \"\"\n      }\n    },\n    {\n      \"column\": \"age\",\n      \"properties\": {\n        \"dtype\": \"number\",\n        \"std\": 17.774957946504404,\n        \"min\": 21.68,\n        \"max\": 64.16,\n        \"num_unique_values\": 5,\n        \"samples\": [\n          29.05,\n          35.24\n        ],\n        \"semantic_type\": \"\",\n        \"description\": \"\"\n      }\n    },\n    {\n      \"column\": \"diagnosis\",\n      \"properties\": {\n        \"dtype\": \"string\",\n        \"num_unique_values\": 3,\n        \"samples\": [\n          \"TOF with VT\",\n          \"TOF without VT\"\n        ],\n        \"semantic_type\": \"\",\n        \"description\": \"\"\n      }\n    },\n    {\n      \"column\": \"ecg_duration\",\n      \"properties\": {\n        \"dtype\": \"object\",\n        \"num_unique_values\": 5,\n        \"samples\": [\n          \"0:17:51.82\",\n          \"0:57:27.091\"\n        ],\n        \"semantic_type\": \"\",\n        \"description\": \"\"\n      }\n    }\n  ]\n}",
              "type": "dataframe"
            },
            "text/html": [
              "\n",
              "  <div id=\"df-1080abcb-95c5-420a-adaf-b1e3882c0d26\" class=\"colab-df-container\">\n",
              "    <div>\n",
              "<style scoped>\n",
              "    .dataframe tbody tr th:only-of-type {\n",
              "        vertical-align: middle;\n",
              "    }\n",
              "\n",
              "    .dataframe tbody tr th {\n",
              "        vertical-align: top;\n",
              "    }\n",
              "\n",
              "    .dataframe thead th {\n",
              "        text-align: right;\n",
              "    }\n",
              "</style>\n",
              "<table border=\"1\" class=\"dataframe\">\n",
              "  <thead>\n",
              "    <tr style=\"text-align: right;\">\n",
              "      <th></th>\n",
              "      <th>subject_id</th>\n",
              "      <th>file_name</th>\n",
              "      <th>gender</th>\n",
              "      <th>age</th>\n",
              "      <th>diagnosis</th>\n",
              "      <th>ecg_duration</th>\n",
              "    </tr>\n",
              "  </thead>\n",
              "  <tbody>\n",
              "    <tr>\n",
              "      <th>0</th>\n",
              "      <td>100</td>\n",
              "      <td>x100</td>\n",
              "      <td>M</td>\n",
              "      <td>64.16</td>\n",
              "      <td>TOF with VT</td>\n",
              "      <td>0:13:2.107</td>\n",
              "    </tr>\n",
              "    <tr>\n",
              "      <th>1</th>\n",
              "      <td>101</td>\n",
              "      <td>x101</td>\n",
              "      <td>M</td>\n",
              "      <td>29.05</td>\n",
              "      <td>TOF with VT</td>\n",
              "      <td>0:17:51.82</td>\n",
              "    </tr>\n",
              "    <tr>\n",
              "      <th>2</th>\n",
              "      <td>102</td>\n",
              "      <td>x102</td>\n",
              "      <td>F</td>\n",
              "      <td>54.35</td>\n",
              "      <td>TOF without VT</td>\n",
              "      <td>0:28:26.809</td>\n",
              "    </tr>\n",
              "    <tr>\n",
              "      <th>3</th>\n",
              "      <td>103</td>\n",
              "      <td>x103</td>\n",
              "      <td>F</td>\n",
              "      <td>21.68</td>\n",
              "      <td>TOF with nsVT</td>\n",
              "      <td>0:18:59.532</td>\n",
              "    </tr>\n",
              "    <tr>\n",
              "      <th>4</th>\n",
              "      <td>104</td>\n",
              "      <td>x104</td>\n",
              "      <td>M</td>\n",
              "      <td>35.24</td>\n",
              "      <td>TOF with VT</td>\n",
              "      <td>0:57:27.091</td>\n",
              "    </tr>\n",
              "  </tbody>\n",
              "</table>\n",
              "</div>\n",
              "    <div class=\"colab-df-buttons\">\n",
              "\n",
              "  <div class=\"colab-df-container\">\n",
              "    <button class=\"colab-df-convert\" onclick=\"convertToInteractive('df-1080abcb-95c5-420a-adaf-b1e3882c0d26')\"\n",
              "            title=\"Convert this dataframe to an interactive table.\"\n",
              "            style=\"display:none;\">\n",
              "\n",
              "  <svg xmlns=\"http://www.w3.org/2000/svg\" height=\"24px\" viewBox=\"0 -960 960 960\">\n",
              "    <path d=\"M120-120v-720h720v720H120Zm60-500h600v-160H180v160Zm220 220h160v-160H400v160Zm0 220h160v-160H400v160ZM180-400h160v-160H180v160Zm440 0h160v-160H620v160ZM180-180h160v-160H180v160Zm440 0h160v-160H620v160Z\"/>\n",
              "  </svg>\n",
              "    </button>\n",
              "\n",
              "  <style>\n",
              "    .colab-df-container {\n",
              "      display:flex;\n",
              "      gap: 12px;\n",
              "    }\n",
              "\n",
              "    .colab-df-convert {\n",
              "      background-color: #E8F0FE;\n",
              "      border: none;\n",
              "      border-radius: 50%;\n",
              "      cursor: pointer;\n",
              "      display: none;\n",
              "      fill: #1967D2;\n",
              "      height: 32px;\n",
              "      padding: 0 0 0 0;\n",
              "      width: 32px;\n",
              "    }\n",
              "\n",
              "    .colab-df-convert:hover {\n",
              "      background-color: #E2EBFA;\n",
              "      box-shadow: 0px 1px 2px rgba(60, 64, 67, 0.3), 0px 1px 3px 1px rgba(60, 64, 67, 0.15);\n",
              "      fill: #174EA6;\n",
              "    }\n",
              "\n",
              "    .colab-df-buttons div {\n",
              "      margin-bottom: 4px;\n",
              "    }\n",
              "\n",
              "    [theme=dark] .colab-df-convert {\n",
              "      background-color: #3B4455;\n",
              "      fill: #D2E3FC;\n",
              "    }\n",
              "\n",
              "    [theme=dark] .colab-df-convert:hover {\n",
              "      background-color: #434B5C;\n",
              "      box-shadow: 0px 1px 3px 1px rgba(0, 0, 0, 0.15);\n",
              "      filter: drop-shadow(0px 1px 2px rgba(0, 0, 0, 0.3));\n",
              "      fill: #FFFFFF;\n",
              "    }\n",
              "  </style>\n",
              "\n",
              "    <script>\n",
              "      const buttonEl =\n",
              "        document.querySelector('#df-1080abcb-95c5-420a-adaf-b1e3882c0d26 button.colab-df-convert');\n",
              "      buttonEl.style.display =\n",
              "        google.colab.kernel.accessAllowed ? 'block' : 'none';\n",
              "\n",
              "      async function convertToInteractive(key) {\n",
              "        const element = document.querySelector('#df-1080abcb-95c5-420a-adaf-b1e3882c0d26');\n",
              "        const dataTable =\n",
              "          await google.colab.kernel.invokeFunction('convertToInteractive',\n",
              "                                                    [key], {});\n",
              "        if (!dataTable) return;\n",
              "\n",
              "        const docLinkHtml = 'Like what you see? Visit the ' +\n",
              "          '<a target=\"_blank\" href=https://colab.research.google.com/notebooks/data_table.ipynb>data table notebook</a>'\n",
              "          + ' to learn more about interactive tables.';\n",
              "        element.innerHTML = '';\n",
              "        dataTable['output_type'] = 'display_data';\n",
              "        await google.colab.output.renderOutput(dataTable, element);\n",
              "        const docLink = document.createElement('div');\n",
              "        docLink.innerHTML = docLinkHtml;\n",
              "        element.appendChild(docLink);\n",
              "      }\n",
              "    </script>\n",
              "  </div>\n",
              "\n",
              "\n",
              "    <div id=\"df-a128262a-3403-46bc-8559-57bc7c9f3597\">\n",
              "      <button class=\"colab-df-quickchart\" onclick=\"quickchart('df-a128262a-3403-46bc-8559-57bc7c9f3597')\"\n",
              "                title=\"Suggest charts\"\n",
              "                style=\"display:none;\">\n",
              "\n",
              "<svg xmlns=\"http://www.w3.org/2000/svg\" height=\"24px\"viewBox=\"0 0 24 24\"\n",
              "     width=\"24px\">\n",
              "    <g>\n",
              "        <path d=\"M19 3H5c-1.1 0-2 .9-2 2v14c0 1.1.9 2 2 2h14c1.1 0 2-.9 2-2V5c0-1.1-.9-2-2-2zM9 17H7v-7h2v7zm4 0h-2V7h2v10zm4 0h-2v-4h2v4z\"/>\n",
              "    </g>\n",
              "</svg>\n",
              "      </button>\n",
              "\n",
              "<style>\n",
              "  .colab-df-quickchart {\n",
              "      --bg-color: #E8F0FE;\n",
              "      --fill-color: #1967D2;\n",
              "      --hover-bg-color: #E2EBFA;\n",
              "      --hover-fill-color: #174EA6;\n",
              "      --disabled-fill-color: #AAA;\n",
              "      --disabled-bg-color: #DDD;\n",
              "  }\n",
              "\n",
              "  [theme=dark] .colab-df-quickchart {\n",
              "      --bg-color: #3B4455;\n",
              "      --fill-color: #D2E3FC;\n",
              "      --hover-bg-color: #434B5C;\n",
              "      --hover-fill-color: #FFFFFF;\n",
              "      --disabled-bg-color: #3B4455;\n",
              "      --disabled-fill-color: #666;\n",
              "  }\n",
              "\n",
              "  .colab-df-quickchart {\n",
              "    background-color: var(--bg-color);\n",
              "    border: none;\n",
              "    border-radius: 50%;\n",
              "    cursor: pointer;\n",
              "    display: none;\n",
              "    fill: var(--fill-color);\n",
              "    height: 32px;\n",
              "    padding: 0;\n",
              "    width: 32px;\n",
              "  }\n",
              "\n",
              "  .colab-df-quickchart:hover {\n",
              "    background-color: var(--hover-bg-color);\n",
              "    box-shadow: 0 1px 2px rgba(60, 64, 67, 0.3), 0 1px 3px 1px rgba(60, 64, 67, 0.15);\n",
              "    fill: var(--button-hover-fill-color);\n",
              "  }\n",
              "\n",
              "  .colab-df-quickchart-complete:disabled,\n",
              "  .colab-df-quickchart-complete:disabled:hover {\n",
              "    background-color: var(--disabled-bg-color);\n",
              "    fill: var(--disabled-fill-color);\n",
              "    box-shadow: none;\n",
              "  }\n",
              "\n",
              "  .colab-df-spinner {\n",
              "    border: 2px solid var(--fill-color);\n",
              "    border-color: transparent;\n",
              "    border-bottom-color: var(--fill-color);\n",
              "    animation:\n",
              "      spin 1s steps(1) infinite;\n",
              "  }\n",
              "\n",
              "  @keyframes spin {\n",
              "    0% {\n",
              "      border-color: transparent;\n",
              "      border-bottom-color: var(--fill-color);\n",
              "      border-left-color: var(--fill-color);\n",
              "    }\n",
              "    20% {\n",
              "      border-color: transparent;\n",
              "      border-left-color: var(--fill-color);\n",
              "      border-top-color: var(--fill-color);\n",
              "    }\n",
              "    30% {\n",
              "      border-color: transparent;\n",
              "      border-left-color: var(--fill-color);\n",
              "      border-top-color: var(--fill-color);\n",
              "      border-right-color: var(--fill-color);\n",
              "    }\n",
              "    40% {\n",
              "      border-color: transparent;\n",
              "      border-right-color: var(--fill-color);\n",
              "      border-top-color: var(--fill-color);\n",
              "    }\n",
              "    60% {\n",
              "      border-color: transparent;\n",
              "      border-right-color: var(--fill-color);\n",
              "    }\n",
              "    80% {\n",
              "      border-color: transparent;\n",
              "      border-right-color: var(--fill-color);\n",
              "      border-bottom-color: var(--fill-color);\n",
              "    }\n",
              "    90% {\n",
              "      border-color: transparent;\n",
              "      border-bottom-color: var(--fill-color);\n",
              "    }\n",
              "  }\n",
              "</style>\n",
              "\n",
              "      <script>\n",
              "        async function quickchart(key) {\n",
              "          const quickchartButtonEl =\n",
              "            document.querySelector('#' + key + ' button');\n",
              "          quickchartButtonEl.disabled = true;  // To prevent multiple clicks.\n",
              "          quickchartButtonEl.classList.add('colab-df-spinner');\n",
              "          try {\n",
              "            const charts = await google.colab.kernel.invokeFunction(\n",
              "                'suggestCharts', [key], {});\n",
              "          } catch (error) {\n",
              "            console.error('Error during call to suggestCharts:', error);\n",
              "          }\n",
              "          quickchartButtonEl.classList.remove('colab-df-spinner');\n",
              "          quickchartButtonEl.classList.add('colab-df-quickchart-complete');\n",
              "        }\n",
              "        (() => {\n",
              "          let quickchartButtonEl =\n",
              "            document.querySelector('#df-a128262a-3403-46bc-8559-57bc7c9f3597 button');\n",
              "          quickchartButtonEl.style.display =\n",
              "            google.colab.kernel.accessAllowed ? 'block' : 'none';\n",
              "        })();\n",
              "      </script>\n",
              "    </div>\n",
              "\n",
              "    </div>\n",
              "  </div>\n"
            ],
            "text/plain": [
              "   subject_id file_name gender    age       diagnosis ecg_duration\n",
              "0         100      x100      M  64.16     TOF with VT   0:13:2.107\n",
              "1         101      x101      M  29.05     TOF with VT   0:17:51.82\n",
              "2         102      x102      F  54.35  TOF without VT  0:28:26.809\n",
              "3         103      x103      F  21.68   TOF with nsVT  0:18:59.532\n",
              "4         104      x104      M  35.24     TOF with VT  0:57:27.091"
            ]
          },
          "metadata": {},
          "output_type": "display_data"
        },
        {
          "name": "stdout",
          "output_type": "stream",
          "text": [
            "\n",
            "Adults Subject Info Shape: (10, 6)\n",
            "\n",
            "Adults Subject Info Columns:\n",
            " Index(['subject_id', 'file_name', 'gender', 'age', 'diagnosis',\n",
            "       'ecg_duration'],\n",
            "      dtype='object')\n",
            "\n",
            "Dataset Info:\n"
          ]
        },
        {
          "data": {
            "application/vnd.google.colaboratory.intrinsic+json": {
              "summary": "{\n  \"name\": \"    print(\\\"\\\\nNo record names available to check sample record properties\",\n  \"rows\": 5,\n  \"fields\": [\n    {\n      \"column\": \"abbreviation\",\n      \"properties\": {\n        \"dtype\": \"string\",\n        \"num_unique_values\": 5,\n        \"samples\": [\n          \"aAVRT\",\n          \"AFL\",\n          \"ABL12\"\n        ],\n        \"semantic_type\": \"\",\n        \"description\": \"\"\n      }\n    },\n    {\n      \"column\": \"dataset_symbol\",\n      \"properties\": {\n        \"dtype\": \"category\",\n        \"num_unique_values\": 1,\n        \"samples\": [\n          \"X\"\n        ],\n        \"semantic_type\": \"\",\n        \"description\": \"\"\n      }\n    },\n    {\n      \"column\": \"dataset_aux_string\",\n      \"properties\": {\n        \"dtype\": \"string\",\n        \"num_unique_values\": 4,\n        \"samples\": [\n          \"avrt\"\n        ],\n        \"semantic_type\": \"\",\n        \"description\": \"\"\n      }\n    },\n    {\n      \"column\": \"description\",\n      \"properties\": {\n        \"dtype\": \"string\",\n        \"num_unique_values\": 5,\n        \"samples\": [\n          \"Aberrated AVRT\"\n        ],\n        \"semantic_type\": \"\",\n        \"description\": \"\"\n      }\n    }\n  ]\n}",
              "type": "dataframe"
            },
            "text/html": [
              "\n",
              "  <div id=\"df-92eaeb4f-c732-4685-b2d3-32143ef2ceec\" class=\"colab-df-container\">\n",
              "    <div>\n",
              "<style scoped>\n",
              "    .dataframe tbody tr th:only-of-type {\n",
              "        vertical-align: middle;\n",
              "    }\n",
              "\n",
              "    .dataframe tbody tr th {\n",
              "        vertical-align: top;\n",
              "    }\n",
              "\n",
              "    .dataframe thead th {\n",
              "        text-align: right;\n",
              "    }\n",
              "</style>\n",
              "<table border=\"1\" class=\"dataframe\">\n",
              "  <thead>\n",
              "    <tr style=\"text-align: right;\">\n",
              "      <th></th>\n",
              "      <th>abbreviation</th>\n",
              "      <th>dataset_symbol</th>\n",
              "      <th>dataset_aux_string</th>\n",
              "      <th>description</th>\n",
              "    </tr>\n",
              "  </thead>\n",
              "  <tbody>\n",
              "    <tr>\n",
              "      <th>0</th>\n",
              "      <td>aAVNRT</td>\n",
              "      <td>X</td>\n",
              "      <td>avnrt</td>\n",
              "      <td>Aberrated AVNRT</td>\n",
              "    </tr>\n",
              "    <tr>\n",
              "      <th>1</th>\n",
              "      <td>aAVRT</td>\n",
              "      <td>X</td>\n",
              "      <td>avrt</td>\n",
              "      <td>Aberrated AVRT</td>\n",
              "    </tr>\n",
              "    <tr>\n",
              "      <th>2</th>\n",
              "      <td>ABL12</td>\n",
              "      <td>NaN</td>\n",
              "      <td>NaN</td>\n",
              "      <td>Ablation and mapping catheter (distal electrodes)</td>\n",
              "    </tr>\n",
              "    <tr>\n",
              "      <th>3</th>\n",
              "      <td>AF</td>\n",
              "      <td>X</td>\n",
              "      <td>AFIB</td>\n",
              "      <td>Atrial Fibrillation</td>\n",
              "    </tr>\n",
              "    <tr>\n",
              "      <th>4</th>\n",
              "      <td>AFL</td>\n",
              "      <td>X</td>\n",
              "      <td>AFL</td>\n",
              "      <td>Atrial Flutter</td>\n",
              "    </tr>\n",
              "  </tbody>\n",
              "</table>\n",
              "</div>\n",
              "    <div class=\"colab-df-buttons\">\n",
              "\n",
              "  <div class=\"colab-df-container\">\n",
              "    <button class=\"colab-df-convert\" onclick=\"convertToInteractive('df-92eaeb4f-c732-4685-b2d3-32143ef2ceec')\"\n",
              "            title=\"Convert this dataframe to an interactive table.\"\n",
              "            style=\"display:none;\">\n",
              "\n",
              "  <svg xmlns=\"http://www.w3.org/2000/svg\" height=\"24px\" viewBox=\"0 -960 960 960\">\n",
              "    <path d=\"M120-120v-720h720v720H120Zm60-500h600v-160H180v160Zm220 220h160v-160H400v160Zm0 220h160v-160H400v160ZM180-400h160v-160H180v160Zm440 0h160v-160H620v160ZM180-180h160v-160H180v160Zm440 0h160v-160H620v160Z\"/>\n",
              "  </svg>\n",
              "    </button>\n",
              "\n",
              "  <style>\n",
              "    .colab-df-container {\n",
              "      display:flex;\n",
              "      gap: 12px;\n",
              "    }\n",
              "\n",
              "    .colab-df-convert {\n",
              "      background-color: #E8F0FE;\n",
              "      border: none;\n",
              "      border-radius: 50%;\n",
              "      cursor: pointer;\n",
              "      display: none;\n",
              "      fill: #1967D2;\n",
              "      height: 32px;\n",
              "      padding: 0 0 0 0;\n",
              "      width: 32px;\n",
              "    }\n",
              "\n",
              "    .colab-df-convert:hover {\n",
              "      background-color: #E2EBFA;\n",
              "      box-shadow: 0px 1px 2px rgba(60, 64, 67, 0.3), 0px 1px 3px 1px rgba(60, 64, 67, 0.15);\n",
              "      fill: #174EA6;\n",
              "    }\n",
              "\n",
              "    .colab-df-buttons div {\n",
              "      margin-bottom: 4px;\n",
              "    }\n",
              "\n",
              "    [theme=dark] .colab-df-convert {\n",
              "      background-color: #3B4455;\n",
              "      fill: #D2E3FC;\n",
              "    }\n",
              "\n",
              "    [theme=dark] .colab-df-convert:hover {\n",
              "      background-color: #434B5C;\n",
              "      box-shadow: 0px 1px 3px 1px rgba(0, 0, 0, 0.15);\n",
              "      filter: drop-shadow(0px 1px 2px rgba(0, 0, 0, 0.3));\n",
              "      fill: #FFFFFF;\n",
              "    }\n",
              "  </style>\n",
              "\n",
              "    <script>\n",
              "      const buttonEl =\n",
              "        document.querySelector('#df-92eaeb4f-c732-4685-b2d3-32143ef2ceec button.colab-df-convert');\n",
              "      buttonEl.style.display =\n",
              "        google.colab.kernel.accessAllowed ? 'block' : 'none';\n",
              "\n",
              "      async function convertToInteractive(key) {\n",
              "        const element = document.querySelector('#df-92eaeb4f-c732-4685-b2d3-32143ef2ceec');\n",
              "        const dataTable =\n",
              "          await google.colab.kernel.invokeFunction('convertToInteractive',\n",
              "                                                    [key], {});\n",
              "        if (!dataTable) return;\n",
              "\n",
              "        const docLinkHtml = 'Like what you see? Visit the ' +\n",
              "          '<a target=\"_blank\" href=https://colab.research.google.com/notebooks/data_table.ipynb>data table notebook</a>'\n",
              "          + ' to learn more about interactive tables.';\n",
              "        element.innerHTML = '';\n",
              "        dataTable['output_type'] = 'display_data';\n",
              "        await google.colab.output.renderOutput(dataTable, element);\n",
              "        const docLink = document.createElement('div');\n",
              "        docLink.innerHTML = docLinkHtml;\n",
              "        element.appendChild(docLink);\n",
              "      }\n",
              "    </script>\n",
              "  </div>\n",
              "\n",
              "\n",
              "    <div id=\"df-ac61aa26-4b57-46ee-8189-c9b1a5f27b0b\">\n",
              "      <button class=\"colab-df-quickchart\" onclick=\"quickchart('df-ac61aa26-4b57-46ee-8189-c9b1a5f27b0b')\"\n",
              "                title=\"Suggest charts\"\n",
              "                style=\"display:none;\">\n",
              "\n",
              "<svg xmlns=\"http://www.w3.org/2000/svg\" height=\"24px\"viewBox=\"0 0 24 24\"\n",
              "     width=\"24px\">\n",
              "    <g>\n",
              "        <path d=\"M19 3H5c-1.1 0-2 .9-2 2v14c0 1.1.9 2 2 2h14c1.1 0 2-.9 2-2V5c0-1.1-.9-2-2-2zM9 17H7v-7h2v7zm4 0h-2V7h2v10zm4 0h-2v-4h2v4z\"/>\n",
              "    </g>\n",
              "</svg>\n",
              "      </button>\n",
              "\n",
              "<style>\n",
              "  .colab-df-quickchart {\n",
              "      --bg-color: #E8F0FE;\n",
              "      --fill-color: #1967D2;\n",
              "      --hover-bg-color: #E2EBFA;\n",
              "      --hover-fill-color: #174EA6;\n",
              "      --disabled-fill-color: #AAA;\n",
              "      --disabled-bg-color: #DDD;\n",
              "  }\n",
              "\n",
              "  [theme=dark] .colab-df-quickchart {\n",
              "      --bg-color: #3B4455;\n",
              "      --fill-color: #D2E3FC;\n",
              "      --hover-bg-color: #434B5C;\n",
              "      --hover-fill-color: #FFFFFF;\n",
              "      --disabled-bg-color: #3B4455;\n",
              "      --disabled-fill-color: #666;\n",
              "  }\n",
              "\n",
              "  .colab-df-quickchart {\n",
              "    background-color: var(--bg-color);\n",
              "    border: none;\n",
              "    border-radius: 50%;\n",
              "    cursor: pointer;\n",
              "    display: none;\n",
              "    fill: var(--fill-color);\n",
              "    height: 32px;\n",
              "    padding: 0;\n",
              "    width: 32px;\n",
              "  }\n",
              "\n",
              "  .colab-df-quickchart:hover {\n",
              "    background-color: var(--hover-bg-color);\n",
              "    box-shadow: 0 1px 2px rgba(60, 64, 67, 0.3), 0 1px 3px 1px rgba(60, 64, 67, 0.15);\n",
              "    fill: var(--button-hover-fill-color);\n",
              "  }\n",
              "\n",
              "  .colab-df-quickchart-complete:disabled,\n",
              "  .colab-df-quickchart-complete:disabled:hover {\n",
              "    background-color: var(--disabled-bg-color);\n",
              "    fill: var(--disabled-fill-color);\n",
              "    box-shadow: none;\n",
              "  }\n",
              "\n",
              "  .colab-df-spinner {\n",
              "    border: 2px solid var(--fill-color);\n",
              "    border-color: transparent;\n",
              "    border-bottom-color: var(--fill-color);\n",
              "    animation:\n",
              "      spin 1s steps(1) infinite;\n",
              "  }\n",
              "\n",
              "  @keyframes spin {\n",
              "    0% {\n",
              "      border-color: transparent;\n",
              "      border-bottom-color: var(--fill-color);\n",
              "      border-left-color: var(--fill-color);\n",
              "    }\n",
              "    20% {\n",
              "      border-color: transparent;\n",
              "      border-left-color: var(--fill-color);\n",
              "      border-top-color: var(--fill-color);\n",
              "    }\n",
              "    30% {\n",
              "      border-color: transparent;\n",
              "      border-left-color: var(--fill-color);\n",
              "      border-top-color: var(--fill-color);\n",
              "      border-right-color: var(--fill-color);\n",
              "    }\n",
              "    40% {\n",
              "      border-color: transparent;\n",
              "      border-right-color: var(--fill-color);\n",
              "      border-top-color: var(--fill-color);\n",
              "    }\n",
              "    60% {\n",
              "      border-color: transparent;\n",
              "      border-right-color: var(--fill-color);\n",
              "    }\n",
              "    80% {\n",
              "      border-color: transparent;\n",
              "      border-right-color: var(--fill-color);\n",
              "      border-bottom-color: var(--fill-color);\n",
              "    }\n",
              "    90% {\n",
              "      border-color: transparent;\n",
              "      border-bottom-color: var(--fill-color);\n",
              "    }\n",
              "  }\n",
              "</style>\n",
              "\n",
              "      <script>\n",
              "        async function quickchart(key) {\n",
              "          const quickchartButtonEl =\n",
              "            document.querySelector('#' + key + ' button');\n",
              "          quickchartButtonEl.disabled = true;  // To prevent multiple clicks.\n",
              "          quickchartButtonEl.classList.add('colab-df-spinner');\n",
              "          try {\n",
              "            const charts = await google.colab.kernel.invokeFunction(\n",
              "                'suggestCharts', [key], {});\n",
              "          } catch (error) {\n",
              "            console.error('Error during call to suggestCharts:', error);\n",
              "          }\n",
              "          quickchartButtonEl.classList.remove('colab-df-spinner');\n",
              "          quickchartButtonEl.classList.add('colab-df-quickchart-complete');\n",
              "        }\n",
              "        (() => {\n",
              "          let quickchartButtonEl =\n",
              "            document.querySelector('#df-ac61aa26-4b57-46ee-8189-c9b1a5f27b0b button');\n",
              "          quickchartButtonEl.style.display =\n",
              "            google.colab.kernel.accessAllowed ? 'block' : 'none';\n",
              "        })();\n",
              "      </script>\n",
              "    </div>\n",
              "\n",
              "    </div>\n",
              "  </div>\n"
            ],
            "text/plain": [
              "  abbreviation dataset_symbol dataset_aux_string  \\\n",
              "0       aAVNRT              X              avnrt   \n",
              "1        aAVRT              X               avrt   \n",
              "2        ABL12            NaN                NaN   \n",
              "3           AF              X               AFIB   \n",
              "4          AFL              X                AFL   \n",
              "\n",
              "                                         description  \n",
              "0                                    Aberrated AVNRT  \n",
              "1                                     Aberrated AVRT  \n",
              "2  Ablation and mapping catheter (distal electrodes)  \n",
              "3                                Atrial Fibrillation  \n",
              "4                                     Atrial Flutter  "
            ]
          },
          "metadata": {},
          "output_type": "display_data"
        },
        {
          "name": "stdout",
          "output_type": "stream",
          "text": [
            "\n",
            "Dataset Info Shape: (55, 4)\n",
            "\n",
            "Dataset Info Columns:\n",
            " Index(['abbreviation', 'dataset_symbol', 'dataset_aux_string', 'description'], dtype='object')\n",
            "\n",
            "Properties of sample record 'x008':\n",
            "  Sampling Frequency (Hz): 977\n",
            "  Number of Signals: 19\n",
            "  Signal Names: ['I', 'II', 'III', 'aVR', 'aVL', 'aVF', 'V1', 'V2', 'V3', 'V4', 'V5', 'V6', 'ABL12', 'RVA12', 'CS12', 'CS34', 'CS56', 'CS78', 'CS90']\n",
            "  Signal Units: ['mV', 'mV', 'mV', 'mV', 'mV', 'mV', 'mV', 'mV', 'mV', 'mV', 'mV', 'mV', 'mV', 'mV', 'mV', 'mV', 'mV', 'mV', 'mV']\n",
            "  Signal Length (samples): 430270\n",
            "  Record Length (seconds): 440.39918116683725\n",
            "\n",
            "  Sample Annotations (first 10):\n",
            "    Sample: 245, Symbol: +, Aux: (AVRT\n",
            "    Sample: 405, Symbol: X, Aux: AVRT\n",
            "    Sample: 816, Symbol: X, Aux: AVRT\n",
            "    Sample: 1230, Symbol: X, Aux: AVRT\n",
            "    Sample: 1603, Symbol: X, Aux: AVRT\n",
            "    Sample: 2014, Symbol: X, Aux: AVRT\n",
            "    Sample: 2406, Symbol: X, Aux: AVRT\n",
            "    Sample: 2825, Symbol: X, Aux: AVRT\n",
            "    Sample: 3195, Symbol: X, Aux: AVRT\n",
            "    Sample: 3620, Symbol: X, Aux: AVRT\n"
          ]
        }
      ],
      "source": [
        "\n",
        "rec_names = [os.path.splitext(os.path.basename(f))[0] for f in glob.glob(os.path.join(folder_path, '*.dat'))]\n",
        "all_ann_symbols = []\n",
        "\n",
        "# You might want to process a larger subset than just the first 20 if possible\n",
        "# This loop iterates through the record names you've already loaded\n",
        "print(\"Analyzing annotation distribution (processing  records)...\")\n",
        "for rec in rec_names[:20]: # Processing first 20 records for efficiency, adjust if needed\n",
        "    path = os.path.join(folder_path, rec)\n",
        "    try:\n",
        "        # Load annotations\n",
        "        annotation = wfdb.rdann(path, 'atr') # Assuming 'atr' is the annotation extension\n",
        "        all_ann_symbols.extend(annotation.symbol)\n",
        "    except FileNotFoundError:\n",
        "        # Handle cases where annotation file might be missing\n",
        "        print(f\"Annotation file not found for {rec}. Skipping.\")\n",
        "        continue\n",
        "    except Exception as e:\n",
        "        print(f\"Error loading annotation for {rec}: {e}\")\n",
        "        continue\n",
        "\n",
        "if all_ann_symbols:\n",
        "    # Count the occurrences of each symbol\n",
        "    symbol_counts = pd.Series(all_ann_symbols).value_counts()\n",
        "    print(\"\\nAnnotation Symbol Distribution ( records):\")\n",
        "    print(symbol_counts)\n",
        "else:\n",
        "    print(\"\\nNo annotations found in the processed records.\")\n",
        "\n",
        "# %%\n",
        "# Explore the loaded metadata DataFrames\n",
        "\n",
        "print(\"\\nChildren Subject Info:\")\n",
        "if child_info is not None:\n",
        "    display(child_info.head()) # Display the first few rows\n",
        "    print(\"\\nChildren Subject Info Shape:\", child_info.shape)\n",
        "    print(\"\\nChildren Subject Info Columns:\\n\", child_info.columns)\n",
        "else:\n",
        "    print(\"Children subject info not loaded.\")\n",
        "\n",
        "print(\"\\nAdults Subject Info:\")\n",
        "if adult_info is not None:\n",
        "    display(adult_info.head()) # Display the first few rows\n",
        "    print(\"\\nAdults Subject Info Shape:\", adult_info.shape)\n",
        "    print(\"\\nAdults Subject Info Columns:\\n\", adult_info.columns)\n",
        "else:\n",
        "    print(\"Adults subject info not loaded.\")\n",
        "\n",
        "print(\"\\nDataset Info:\")\n",
        "if dataset_info is not None:\n",
        "    display(dataset_info.head()) # Display the first few rows\n",
        "    print(\"\\nDataset Info Shape:\", dataset_info.shape)\n",
        "    print(\"\\nDataset Info Columns:\\n\", dataset_info.columns)\n",
        "else:\n",
        "    print(\"Dataset info not loaded.\")\n",
        "\n",
        "# You can add more analysis of the metadata DataFrames here,\n",
        "# e.g., checking unique values in columns, looking at value counts for categorical columns, etc.\n",
        "\n",
        "# %%\n",
        "# Check properties of a sample record\n",
        "\n",
        "if rec_names:\n",
        "    sample_rec_name = rec_names[0] # Choose one of the loaded record names\n",
        "    sample_record_path = os.path.join(folder_path, sample_rec_name)\n",
        "    try:\n",
        "        sample_record = wfdb.rdrecord(sample_record_path)\n",
        "        print(f\"\\nProperties of sample record '{sample_rec_name}':\")\n",
        "        print(\"  Sampling Frequency (Hz):\", sample_record.fs)\n",
        "        print(\"  Number of Signals:\", sample_record.n_sig)\n",
        "        print(\"  Signal Names:\", sample_record.sig_name)\n",
        "        print(\"  Signal Units:\", sample_record.units)\n",
        "        print(\"  Signal Length (samples):\", sample_record.sig_len)\n",
        "        print(\"  Record Length (seconds):\", sample_record.sig_len / sample_record.fs)\n",
        "\n",
        "        # Optionally, display annotation details for the sample record\n",
        "        try:\n",
        "            sample_ann = wfdb.rdann(sample_record_path, 'atr')\n",
        "            print(\"\\n  Sample Annotations (first 10):\")\n",
        "            for i in range(min(10, len(sample_ann.sample))):\n",
        "                print(f\"    Sample: {sample_ann.sample[i]}, Symbol: {sample_ann.symbol[i]}, Aux: {sample_ann.aux_note[i] if sample_ann.aux_note else 'N/A'}\")\n",
        "        except FileNotFoundError:\n",
        "             print(\"\\n  No annotation file found for this sample record.\")\n",
        "\n",
        "    except Exception as e:\n",
        "        print(f\"\\nError reading sample record {sample_rec_name}: {e}\")\n",
        "else:\n",
        "    print(\"\\nNo record names available to check sample record properties.\")"
      ]
    },
    {
      "cell_type": "markdown",
      "metadata": {
        "id": "zV_YTLezQbyT"
      },
      "source": [
        "Load and Plot Sample ECG Signal"
      ]
    },
    {
      "cell_type": "code",
      "execution_count": null,
      "metadata": {
        "colab": {
          "base_uri": "https://localhost:8080/",
          "height": 407
        },
        "id": "zVys_kdhS_tW",
        "outputId": "00d1654d-a806-4599-bb68-c5bb5ef72c78"
      },
      "outputs": [
        {
          "data": {
            "image/png": "[encoded data removed]",
            "text/plain": [
              "<Figure size 1000x400 with 1 Axes>"
            ]
          },
          "metadata": {},
          "output_type": "display_data"
        }
      ],
      "source": [
        "import matplotlib.pyplot as plt\n",
        "import os\n",
        "import glob # Import glob to find files\n",
        "\n",
        "rec_names = [os.path.splitext(os.path.basename(f))[0] for f in glob.glob(os.path.join(folder_path, '*.dat'))]\n",
        "\n",
        "# Check if any record names were found before proceeding\n",
        "if not rec_names:\n",
        "    print(f\"No record names found in {folder_path}. Please check the path and file types.\")\n",
        "else:\n",
        "    # Select a record name to display\n",
        "    record_name = rec_names[0]  # e.g., 'chf01'\n",
        "\n",
        "    # Load the record\n",
        "    record_path = os.path.join(folder_path, record_name)\n",
        "    record = wfdb.rdrecord(record_path)\n",
        "\n",
        "    # Plot the first few seconds of the first signal channel\n",
        "    plt.figure(figsize=(10, 4))\n",
        "    plt.plot(record.p_signal[:1000, 0])  # Plotting first 1000 samples from channel 0\n",
        "    plt.title(f'ECG Signal from {record_name} - Lead: {record.sig_name[0]}')\n",
        "    plt.xlabel('Samples')\n",
        "    plt.ylabel('Amplitude (mV)')\n",
        "    plt.grid(True)\n",
        "    plt.tight_layout()\n",
        "    plt.show()"
      ]
    },
    {
      "cell_type": "markdown",
      "metadata": {
        "id": "xWnvFDoGQfbZ"
      },
      "source": [
        "Plot Sample ECG Signal with Annotations"
      ]
    },
    {
      "cell_type": "code",
      "execution_count": null,
      "metadata": {
        "colab": {
          "base_uri": "https://localhost:8080/",
          "height": 407
        },
        "id": "wCQsFowuTI9h",
        "outputId": "36b4014f-43aa-4727-ae46-8b26d7cbb2c2"
      },
      "outputs": [
        {
          "data": {
            "image/png": "[encoded data removed]",
            "text/plain": [
              "<Figure size 1200x400 with 1 Axes>"
            ]
          },
          "metadata": {},
          "output_type": "display_data"
        }
      ],
      "source": [
        "import matplotlib.pyplot as plt\n",
        "import wfdb\n",
        "\n",
        "# Choose a record to display\n",
        "record_name = rec_names[0]  # pick any record name\n",
        "record_path = os.path.join(folder_path, record_name)\n",
        "\n",
        "# Read the signal and annotations\n",
        "record = wfdb.rdrecord(record_path)\n",
        "try:\n",
        "    annotation = wfdb.rdann(record_path, 'atr')  # 'atr' is the typical annotation extension\n",
        "except FileNotFoundError:\n",
        "    annotation = None\n",
        "    print(f\"No annotation found for {record_name}.\")\n",
        "\n",
        "# Plot the signal with annotations\n",
        "plt.figure(figsize=(12, 4))\n",
        "plt.plot(record.p_signal[:3000, 0], label='ECG Lead: ' + record.sig_name[0])\n",
        "if annotation:\n",
        "    ann_samples = annotation.sample\n",
        "    ann_symbols = annotation.symbol\n",
        "    for s, sym in zip(ann_samples, ann_symbols):\n",
        "        if s < 3000:\n",
        "            plt.axvline(x=s, color='red', linestyle='--', alpha=0.5)\n",
        "            plt.text(s, record.p_signal[s, 0], sym, color='red', fontsize=8, rotation=90)\n",
        "plt.title(f'ECG Signal and Annotations from {record_name}')\n",
        "plt.xlabel('Sample')\n",
        "plt.ylabel('Amplitude (mV)')\n",
        "plt.grid(True)\n",
        "plt.tight_layout()\n",
        "plt.legend()\n",
        "plt.show()\n"
      ]
    },
    {
      "cell_type": "markdown",
      "metadata": {
        "id": "ZIQ_dHxoQiSw"
      },
      "source": [
        "# Data Preprocessing: Load Metadata, Define Leads/Labels, Prepare Save Folder"
      ]
    },
    {
      "cell_type": "code",
      "execution_count": null,
      "metadata": {
        "colab": {
          "base_uri": "https://localhost:8080/"
        },
        "id": "18wuazPZ3oS7",
        "outputId": "4f6ed9c7-4bb1-4865-cfd6-e57a38c31089"
      },
      "outputs": [
        {
          "name": "stdout",
          "output_type": "stream",
          "text": [
            "Found 39 records.\n"
          ]
        }
      ],
      "source": [
        "import shutil\n",
        "\n",
        "# Lead selection and label mappings\n",
        "standard_leads = ['I','II','III','aVR','aVL','aVF','V1','V2','V3','V4','V5','V6']\n",
        "chd_leads = ['II', 'III', 'aVF', 'V1', 'V2', 'V3', 'V4', 'V5', 'V6']\n",
        "original_label_map = {'N': 0, 'L': 1, 'R': 2, 'A': 3, 'V': 4, 'F': 5, '/': 6}\n",
        "binary_label_map = {0:0, 1:0, 2:0, 3:1, 4:1, 5:1, 6:1}\n",
        "\n",
        "# List of record filenames\n",
        "rec_files = [f for f in os.listdir(folder_path) if f.endswith('.hea')]\n",
        "rec_names = [os.path.splitext(f)[0] for f in rec_files]\n",
        "print(f\"Found {len(rec_names)} records.\")\n",
        "\n",
        "# Folder to save processed data\n",
        "save_folder = './processed_chunks'\n",
        "if os.path.exists(save_folder):\n",
        "    shutil.rmtree(save_folder)\n",
        "os.makedirs(save_folder, exist_ok=True)\n",
        "\n",
        "# Window size\n",
        "window_duration_s = 1\n",
        "chunk_idx = 0\n"
      ]
    },
    {
      "cell_type": "markdown",
      "metadata": {
        "id": "051Oy1OeQmv_"
      },
      "source": [
        "Data Preprocessing: Define Bandpass Filter Function and Process Records (Iterate through records, Filter, Normalize, Window, Label, Save Chunks)"
      ]
    },
    {
      "cell_type": "code",
      "execution_count": null,
      "metadata": {
        "colab": {
          "base_uri": "https://localhost:8080/",
          "height": 400
        },
        "id": "s5gwsi-V3oPi",
        "outputId": "5af01d52-203f-415f-d97e-8aaba1472d6a"
      },
      "outputs": [
        {
          "name": "stdout",
          "output_type": "stream",
          "text": [
            "x008: windows=440, labeled_windows=309\n",
            "x007: windows=186, labeled_windows=121\n",
            "x009: windows=876, labeled_windows=93\n",
            "x001: windows=8729, labeled_windows=7105\n",
            "x108: windows=1509, labeled_windows=1268\n",
            "x109: windows=635, labeled_windows=464\n",
            "x0027: windows=77, labeled_windows=69\n",
            "x0015: windows=194, labeled_windows=115\n",
            "x100: windows=782, labeled_windows=668\n",
            "x105: windows=1662, labeled_windows=1260\n",
            "x106: windows=1066, labeled_windows=937\n",
            "x002: windows=6317, labeled_windows=5143\n",
            "x102: windows=1706, labeled_windows=1691\n",
            "x0023: windows=395, labeled_windows=222\n",
            "x0012: windows=699, labeled_windows=585\n",
            "x005: windows=1856, labeled_windows=1839\n",
            "x0013: windows=234, labeled_windows=184\n",
            "x0024: windows=721, labeled_windows=489\n",
            "x0011: windows=717, labeled_windows=25\n",
            "x0017: windows=207, labeled_windows=64\n",
            " Done processing and saving chunks.\n"
          ]
        },
        {
          "data": {
            "application/vnd.google.colaboratory.intrinsic+json": {
              "type": "string"
            },
            "text/plain": [
              "''"
            ]
          },
          "execution_count": 9,
          "metadata": {},
          "output_type": "execute_result"
        }
      ],
      "source": [
        "from scipy.signal import butter, filtfilt\n",
        "import gc\n",
        "\n",
        "def bandpass_filter(signal, fs, lowcut=0.5, highcut=40.0, order=4):\n",
        "    nyq = 0.5 * fs\n",
        "    low = lowcut / nyq\n",
        "    high = highcut / nyq\n",
        "    b, a = butter(order, [low, high], btype='band')\n",
        "    filtered = filtfilt(b, a, signal, axis=0)\n",
        "    return filtered\n",
        "\n",
        "# Your main loop\n",
        "for rec in rec_names[:20]:  # Process first 20 records for testing\n",
        "    path = os.path.join(folder_path, rec)\n",
        "    try:\n",
        "        record = wfdb.rdrecord(path)\n",
        "        ann = wfdb.rdann(path, 'atr')\n",
        "        fs = record.fs\n",
        "        sig = record.p_signal\n",
        "        leads = record.sig_name\n",
        "        ann_samps = ann.sample\n",
        "        ann_syms = ann.symbol\n",
        "\n",
        "        try:\n",
        "            idx = [leads.index(l) for l in chd_leads]\n",
        "        except ValueError:\n",
        "            print(f\"⚠️ Missing some CHD leads in {rec}, skipping.\")\n",
        "            continue\n",
        "\n",
        "        ecg_chd = sig[:, idx]\n",
        "\n",
        "        # Apply bandpass filtering BEFORE normalization\n",
        "        ecg_chd = bandpass_filter(ecg_chd, fs, lowcut=0.5, highcut=40.0, order=4)\n",
        "\n",
        "        means = ecg_chd.mean(axis=0, keepdims=True)\n",
        "        stds = ecg_chd.std(axis=0, keepdims=True)\n",
        "        ecg_chd = (ecg_chd - means) / stds\n",
        "\n",
        "        win_sz = int(window_duration_s * fs)\n",
        "        n_windows = ecg_chd.shape[0] // win_sz\n",
        "        trimmed = ecg_chd[:n_windows * win_sz, :]\n",
        "        windows = trimmed.reshape(n_windows, win_sz, len(chd_leads))\n",
        "\n",
        "        valid_ann = [(s, sym) for s, sym in zip(ann_samps, ann_syms) if s < n_windows * win_sz]\n",
        "        if valid_ann:\n",
        "            ann_samps_trim, ann_syms_trim = zip(*valid_ann)\n",
        "        else:\n",
        "            ann_samps_trim, ann_syms_trim = [], []\n",
        "\n",
        "        chunk_windows = []\n",
        "        chunk_labels = []\n",
        "        labeled_windows = 0\n",
        "        for w in range(n_windows):\n",
        "            start, end = w * win_sz, (w + 1) * win_sz\n",
        "            syms_in_window = [sym for s, sym in zip(ann_samps_trim, ann_syms_trim) if start <= s < end]\n",
        "            lbls_in_window = [original_label_map.get(sym, -1) for sym in syms_in_window]\n",
        "            lbls_in_window = [l for l in lbls_in_window if l >= 0]\n",
        "\n",
        "            if lbls_in_window:\n",
        "                orig_lbl = max(set(lbls_in_window), key=lbls_in_window.count)\n",
        "                chunk_windows.append(windows[w])\n",
        "                chunk_labels.append(orig_lbl)\n",
        "                labeled_windows += 1\n",
        "\n",
        "        print(f\"{rec}: windows={n_windows}, labeled_windows={labeled_windows}\")\n",
        "\n",
        "        if len(chunk_windows) > 0:\n",
        "            chunk_windows_np = np.stack(chunk_windows, axis=0)\n",
        "            chunk_labels_np = np.array(chunk_labels, dtype=int)\n",
        "            np.save(os.path.join(save_folder, f'X_chunk_{chunk_idx}.npy'), chunk_windows_np)\n",
        "            np.save(os.path.join(save_folder, f'y_chunk_{chunk_idx}.npy'), chunk_labels_np)\n",
        "            chunk_idx += 1\n",
        "\n",
        "        del record, ann, sig, ecg_chd, windows, chunk_windows_np, chunk_labels_np\n",
        "        gc.collect()\n",
        "\n",
        "    except Exception as e:\n",
        "        print(f\" Error processing {rec}: {e}\")\n",
        "        continue\n",
        "\n",
        "print(\" Done processing and saving chunks.\")\n",
        "\"\""
      ]
    },
    {
      "cell_type": "markdown",
      "metadata": {
        "id": "AZ5i9LzAo7kc"
      },
      "source": [
        "Lead Selection: Filtering the ECG data to include only specific leads relevant to Congenital Heart Disease (CHD).\n",
        "\n",
        "Filtering: Applying a bandpass filter to remove noise and baseline wander from the selected signals.\n",
        "\n",
        "Normalization: Standardizing the amplitude of the filtered signals lead-wise by removing the mean and scaling by the standard deviation.\n",
        "\n",
        "Windowing: Dividing the continuous ECG signals into fixed-duration segments (windows).\n",
        "\n",
        "Annotation-based Labeling: Assigning a class label to each window based on the most frequent type of heart beat annotation present within that window, and then mapping these to a binary classification label (e.g., normal vs. abnormal)\n"
      ]
    },
    {
      "cell_type": "code",
      "execution_count": null,
      "metadata": {
        "colab": {
          "base_uri": "https://localhost:8080/"
        },
        "id": "yriKB-Nm3oMt",
        "outputId": "90a05a91-c692-4237-d0b2-be710d86b1e8"
      },
      "outputs": [
        {
          "name": "stdout",
          "output_type": "stream",
          "text": [
            " Combined data shape: (22651, 977, 9)\n",
            " Original labels count: (array([0, 2, 3, 4, 5, 6]), array([14655,  5468,   252,   656,    66,  1554]))\n",
            " Binary CHD labels count: (array([0, 1]), array([20123,  2528]))\n"
          ]
        }
      ],
      "source": [
        "\n",
        "#  Load Processed Chunks and Combine\n",
        "\n",
        "X_list = []\n",
        "y_list = []\n",
        "\n",
        "for X_file in sorted(glob.glob(f'{save_folder}/X_chunk_*.npy')):\n",
        "    y_file = X_file.replace('X_chunk_', 'y_chunk_')\n",
        "    X_chunk = np.load(X_file)\n",
        "    y_chunk = np.load(y_file)\n",
        "    X_list.append(X_chunk)\n",
        "    y_list.append(y_chunk)\n",
        "\n",
        "X = np.concatenate(X_list, axis=0)\n",
        "y_original = np.concatenate(y_list, axis=0)\n",
        "y_chd = np.vectorize(binary_label_map.get)(y_original)\n",
        "\n",
        "print(\" Combined data shape:\", X.shape)\n",
        "print(\" Original labels count:\", np.unique(y_original, return_counts=True))\n",
        "print(\" Binary CHD labels count:\", np.unique(y_chd, return_counts=True))"
      ]
    },
    {
      "cell_type": "markdown",
      "metadata": {
        "id": "iwm6HpiU4eAO"
      },
      "source": [
        "Features are saved as X_chunk_{chunk_idx}.npy\n",
        "\n",
        "Labels are saved as y_chunk_{chunk_idx}.npy"
      ]
    },
    {
      "cell_type": "markdown",
      "metadata": {
        "id": "no5bMJnYQ7Hk"
      },
      "source": [
        "Train / Validation / Test Split\n"
      ]
    },
    {
      "cell_type": "code",
      "execution_count": null,
      "metadata": {
        "colab": {
          "base_uri": "https://localhost:8080/"
        },
        "id": "fShhIlGc3oKH",
        "outputId": "2e2effe5-034d-40b1-f77f-9b6f8c1a8dcf"
      },
      "outputs": [
        {
          "name": "stdout",
          "output_type": "stream",
          "text": [
            " Train shape:      (15855, 977, 9),  labels: (array([0, 1]), array([14085,  1770]))\n",
            " Validation shape: (3398, 977, 9),  labels: (array([0, 1]), array([3019,  379]))\n",
            " Test shape:       (3398, 977, 9),  labels: (array([0, 1]), array([3019,  379]))\n"
          ]
        }
      ],
      "source": [
        "# Train / Validation / Test Split\n",
        "\n",
        "from sklearn.model_selection import train_test_split\n",
        "\n",
        "# 1) Train vs Temp (val+test)\n",
        "X_train, X_temp, y_train, y_temp = train_test_split(\n",
        "    X, y_chd,\n",
        "    test_size=0.3,\n",
        "    random_state=42,\n",
        "    stratify=y_chd\n",
        ")\n",
        "\n",
        "# 2) Validation vs Test\n",
        "X_val, X_test, y_val, y_test = train_test_split(\n",
        "    X_temp, y_temp,\n",
        "    test_size=0.5,\n",
        "    random_state=42,\n",
        "    stratify=y_temp\n",
        ")\n",
        "\n",
        "print(f\" Train shape:      {X_train.shape},  labels: {np.unique(y_train, return_counts=True)}\")\n",
        "print(f\" Validation shape: {X_val.shape},  labels: {np.unique(y_val, return_counts=True)}\")\n",
        "print(f\" Test shape:       {X_test.shape},  labels: {np.unique(y_test, return_counts=True)}\")\n"
      ]
    },
    {
      "cell_type": "markdown",
      "metadata": {
        "id": "sleAXSv8Q963"
      },
      "source": [
        "# Build ResNet18 1D Model"
      ]
    },
    {
      "cell_type": "code",
      "execution_count": null,
      "metadata": {
        "id": "mI4yu4L-SRw2"
      },
      "outputs": [],
      "source": [
        "import tensorflow as tf\n",
        "from tensorflow.keras.models import Model\n",
        "from tensorflow.keras.layers import Input, Conv1D, BatchNormalization, Activation, Add, GlobalAveragePooling1D, Dense, Dropout\n",
        "from tensorflow.keras.callbacks import EarlyStopping\n",
        "import matplotlib.pyplot as plt\n",
        "\n",
        "# Define residual block\n",
        "def residual_block(x, filters, kernel_size=3, stride=1):\n",
        "    shortcut = x\n",
        "    x = Conv1D(filters, kernel_size, strides=stride, padding='same', use_bias=False)(x)\n",
        "    x = BatchNormalization()(x)\n",
        "    x = Activation('relu')(x)\n",
        "    x = Conv1D(filters, kernel_size, strides=1, padding='same', use_bias=False)(x)\n",
        "    x = BatchNormalization()(x)\n",
        "\n",
        "    if shortcut.shape[-1] != filters or stride != 1:\n",
        "        shortcut = Conv1D(filters, kernel_size=1, strides=stride, padding='same', use_bias=False)(shortcut)\n",
        "        shortcut = BatchNormalization()(shortcut)\n",
        "\n",
        "    x = Add()([shortcut, x])\n",
        "    x = Activation('relu')(x)\n",
        "    return x\n",
        "\n",
        "# Define ResNet18-1D\n",
        "def build_resnet18_1d(input_shape):\n",
        "    inputs = Input(shape=input_shape)\n",
        "    x = Conv1D(64, kernel_size=7, strides=2, padding='same', use_bias=False)(inputs)\n",
        "    x = BatchNormalization()(x)\n",
        "    x = Activation('relu')(x)\n",
        "\n",
        "    x = residual_block(x, 64, stride=1)\n",
        "    x = residual_block(x, 64, stride=1)\n",
        "    x = residual_block(x, 128, stride=2)\n",
        "    x = residual_block(x, 128, stride=1)\n",
        "    x = residual_block(x, 256, stride=2)\n",
        "    x = residual_block(x, 256, stride=1)\n",
        "    x = residual_block(x, 512, stride=2)\n",
        "    x = residual_block(x, 512, stride=1)\n",
        "\n",
        "    x = GlobalAveragePooling1D()(x)\n",
        "    x = Dropout(0.5)(x)\n",
        "    x = Dense(64, activation='relu')(x)\n",
        "    x = Dropout(0.3)(x)\n",
        "    outputs = Dense(1, activation='sigmoid')(x)\n",
        "\n",
        "    model = Model(inputs, outputs)\n",
        "    return model\n"
      ]
    },
    {
      "cell_type": "markdown",
      "metadata": {
        "id": "CHh_MbEUSUor"
      },
      "source": [
        "Train with Two Optimizers"
      ]
    },
    {
      "cell_type": "code",
      "execution_count": null,
      "metadata": {
        "colab": {
          "base_uri": "https://localhost:8080/"
        },
        "collapsed": true,
        "id": "AFqzFKHvSWUm",
        "outputId": "b8f47c58-7a73-44de-ff7a-f1573738ed1e"
      },
      "outputs": [
        {
          "name": "stdout",
          "output_type": "stream",
          "text": [
            "Epoch 1/20\n",
            "\u001b[1m496/496\u001b[0m \u001b[32m━━━━━━━━━━━━━━━━━━━━\u001b[0m\u001b[37m\u001b[0m \u001b[1m1212s\u001b[0m 2s/step - accuracy: 0.9030 - loss: 0.2665 - val_accuracy: 0.9629 - val_loss: 0.0938\n",
            "Epoch 2/20\n",
            "\u001b[1m496/496\u001b[0m \u001b[32m━━━━━━━━━━━━━━━━━━━━\u001b[0m\u001b[37m\u001b[0m \u001b[1m1234s\u001b[0m 2s/step - accuracy: 0.9634 - loss: 0.1023 - val_accuracy: 0.9756 - val_loss: 0.0781\n",
            "Epoch 3/20\n",
            "\u001b[1m496/496\u001b[0m \u001b[32m━━━━━━━━━━━━━━━━━━━━\u001b[0m\u001b[37m\u001b[0m \u001b[1m1212s\u001b[0m 2s/step - accuracy: 0.9723 - loss: 0.0795 - val_accuracy: 0.9768 - val_loss: 0.0731\n",
            "Epoch 4/20\n",
            "\u001b[1m496/496\u001b[0m \u001b[32m━━━━━━━━━━━━━━━━━━━━\u001b[0m\u001b[37m\u001b[0m \u001b[1m1224s\u001b[0m 2s/step - accuracy: 0.9755 - loss: 0.0677 - val_accuracy: 0.9800 - val_loss: 0.0566\n",
            "Epoch 5/20\n",
            "\u001b[1m496/496\u001b[0m \u001b[32m━━━━━━━━━━━━━━━━━━━━\u001b[0m\u001b[37m\u001b[0m \u001b[1m1210s\u001b[0m 2s/step - accuracy: 0.9786 - loss: 0.0615 - val_accuracy: 0.9782 - val_loss: 0.0566\n",
            "Epoch 6/20\n",
            "\u001b[1m496/496\u001b[0m \u001b[32m━━━━━━━━━━━━━━━━━━━━\u001b[0m\u001b[37m\u001b[0m \u001b[1m1300s\u001b[0m 3s/step - accuracy: 0.9804 - loss: 0.0548 - val_accuracy: 0.9773 - val_loss: 0.0623\n",
            "Epoch 7/20\n",
            "\u001b[1m496/496\u001b[0m \u001b[32m━━━━━━━━━━━━━━━━━━━━\u001b[0m\u001b[37m\u001b[0m \u001b[1m1195s\u001b[0m 2s/step - accuracy: 0.9840 - loss: 0.0458 - val_accuracy: 0.9859 - val_loss: 0.0458\n",
            "Epoch 8/20\n",
            "\u001b[1m496/496\u001b[0m \u001b[32m━━━━━━━━━━━━━━━━━━━━\u001b[0m\u001b[37m\u001b[0m \u001b[1m1262s\u001b[0m 2s/step - accuracy: 0.9857 - loss: 0.0390 - val_accuracy: 0.9847 - val_loss: 0.0494\n",
            "Epoch 9/20\n",
            "\u001b[1m496/496\u001b[0m \u001b[32m━━━━━━━━━━━━━━━━━━━━\u001b[0m\u001b[37m\u001b[0m \u001b[1m1275s\u001b[0m 2s/step - accuracy: 0.9865 - loss: 0.0407 - val_accuracy: 0.9841 - val_loss: 0.0460\n",
            "Epoch 10/20\n",
            "\u001b[1m496/496\u001b[0m \u001b[32m━━━━━━━━━━━━━━━━━━━━\u001b[0m\u001b[37m\u001b[0m \u001b[1m1261s\u001b[0m 2s/step - accuracy: 0.9866 - loss: 0.0390 - val_accuracy: 0.9868 - val_loss: 0.0400\n",
            "Epoch 11/20\n",
            "\u001b[1m496/496\u001b[0m \u001b[32m━━━━━━━━━━━━━━━━━━━━\u001b[0m\u001b[37m\u001b[0m \u001b[1m1254s\u001b[0m 2s/step - accuracy: 0.9877 - loss: 0.0339 - val_accuracy: 0.9865 - val_loss: 0.0397\n",
            "Epoch 12/20\n",
            "\u001b[1m496/496\u001b[0m \u001b[32m━━━━━━━━━━━━━━━━━━━━\u001b[0m\u001b[37m\u001b[0m \u001b[1m1228s\u001b[0m 2s/step - accuracy: 0.9882 - loss: 0.0327 - val_accuracy: 0.9876 - val_loss: 0.0410\n",
            "Epoch 13/20\n",
            "\u001b[1m496/496\u001b[0m \u001b[32m━━━━━━━━━━━━━━━━━━━━\u001b[0m\u001b[37m\u001b[0m \u001b[1m1265s\u001b[0m 2s/step - accuracy: 0.9914 - loss: 0.0264 - val_accuracy: 0.9868 - val_loss: 0.0489\n",
            "Epoch 14/20\n",
            "\u001b[1m496/496\u001b[0m \u001b[32m━━━━━━━━━━━━━━━━━━━━\u001b[0m\u001b[37m\u001b[0m \u001b[1m1276s\u001b[0m 2s/step - accuracy: 0.9886 - loss: 0.0320 - val_accuracy: 0.9844 - val_loss: 0.0466\n",
            "Epoch 15/20\n",
            "\u001b[1m496/496\u001b[0m \u001b[32m━━━━━━━━━━━━━━━━━━━━\u001b[0m\u001b[37m\u001b[0m \u001b[1m1226s\u001b[0m 2s/step - accuracy: 0.9893 - loss: 0.0322 - val_accuracy: 0.9818 - val_loss: 0.0538\n",
            "Epoch 16/20\n",
            "\u001b[1m496/496\u001b[0m \u001b[32m━━━━━━━━━━━━━━━━━━━━\u001b[0m\u001b[37m\u001b[0m \u001b[1m1204s\u001b[0m 2s/step - accuracy: 0.9910 - loss: 0.0307 - val_accuracy: 0.9844 - val_loss: 0.0477\n"
          ]
        }
      ],
      "source": [
        "input_shape = X_train.shape[1:]\n",
        "early_stop = EarlyStopping(monitor='val_loss', patience=5, restore_best_weights=True)\n",
        "\n",
        "# -------- SGD Optimizer --------\n",
        "sgd_model = build_resnet18_1d(input_shape)\n",
        "sgd_model.compile(optimizer='sgd', loss='binary_crossentropy', metrics=['accuracy'])\n",
        "history_sgd = sgd_model.fit(X_train, y_train, validation_data=(X_val, y_val),\n",
        "                            epochs=20, batch_size=32, callbacks=[early_stop])\n",
        "\n"
      ]
    },
    {
      "cell_type": "code",
      "execution_count": null,
      "metadata": {
        "colab": {
          "base_uri": "https://localhost:8080/"
        },
        "id": "oKIzMnR2trgk",
        "outputId": "01f5444d-3256-4e60-f913-1a1fbd7f4243"
      },
      "outputs": [
        {
          "name": "stdout",
          "output_type": "stream",
          "text": [
            "\u001b[1m107/107\u001b[0m \u001b[32m━━━━━━━━━━━━━━━━━━━━\u001b[0m\u001b[37m\u001b[0m \u001b[1m46s\u001b[0m 425ms/step - accuracy: 0.9907 - loss: 0.0287\n",
            "🔹 SGD Optimizer:\n",
            "Test Loss     : 0.0311\n",
            "Test Accuracy : 0.9885\n"
          ]
        }
      ],
      "source": [
        "# Evaluate SGD model\n",
        "sgd_test_loss, sgd_test_accuracy = sgd_model.evaluate(X_test, y_test, verbose=1)\n",
        "print(\"🔹 SGD Optimizer:\")\n",
        "print(f\"Test Loss     : {sgd_test_loss:.4f}\")\n",
        "print(f\"Test Accuracy : {sgd_test_accuracy:.4f}\")\n"
      ]
    },
    {
      "cell_type": "code",
      "execution_count": null,
      "metadata": {
        "colab": {
          "base_uri": "https://localhost:8080/"
        },
        "collapsed": true,
        "id": "byg_6k1EUyl9",
        "outputId": "2aa86202-5109-4fd4-c6ed-61cc7597ed21"
      },
      "outputs": [
        {
          "name": "stdout",
          "output_type": "stream",
          "text": [
            "Epoch 1/20\n",
            "\u001b[1m496/496\u001b[0m \u001b[32m━━━━━━━━━━━━━━━━━━━━\u001b[0m\u001b[37m\u001b[0m \u001b[1m1231s\u001b[0m 2s/step - accuracy: 0.9137 - loss: 0.2473 - val_accuracy: 0.9623 - val_loss: 0.1254\n",
            "Epoch 2/20\n",
            "\u001b[1m496/496\u001b[0m \u001b[32m━━━━━━━━━━━━━━━━━━━━\u001b[0m\u001b[37m\u001b[0m \u001b[1m1193s\u001b[0m 2s/step - accuracy: 0.9626 - loss: 0.1119 - val_accuracy: 0.9670 - val_loss: 0.0907\n",
            "Epoch 3/20\n",
            "\u001b[1m496/496\u001b[0m \u001b[32m━━━━━━━━━━━━━━━━━━━━\u001b[0m\u001b[37m\u001b[0m \u001b[1m1235s\u001b[0m 2s/step - accuracy: 0.9675 - loss: 0.0897 - val_accuracy: 0.9756 - val_loss: 0.0718\n",
            "Epoch 4/20\n",
            "\u001b[1m496/496\u001b[0m \u001b[32m━━━━━━━━━━━━━━━━━━━━\u001b[0m\u001b[37m\u001b[0m \u001b[1m1200s\u001b[0m 2s/step - accuracy: 0.9704 - loss: 0.0849 - val_accuracy: 0.9773 - val_loss: 0.0636\n",
            "Epoch 5/20\n",
            "\u001b[1m496/496\u001b[0m \u001b[32m━━━━━━━━━━━━━━━━━━━━\u001b[0m\u001b[37m\u001b[0m \u001b[1m1222s\u001b[0m 2s/step - accuracy: 0.9742 - loss: 0.0763 - val_accuracy: 0.9806 - val_loss: 0.0559\n",
            "Epoch 6/20\n",
            "\u001b[1m496/496\u001b[0m \u001b[32m━━━━━━━━━━━━━━━━━━━━\u001b[0m\u001b[37m\u001b[0m \u001b[1m1222s\u001b[0m 2s/step - accuracy: 0.9766 - loss: 0.0631 - val_accuracy: 0.9467 - val_loss: 0.1469\n",
            "Epoch 7/20\n",
            "\u001b[1m496/496\u001b[0m \u001b[32m━━━━━━━━━━━━━━━━━━━━\u001b[0m\u001b[37m\u001b[0m \u001b[1m1222s\u001b[0m 2s/step - accuracy: 0.9796 - loss: 0.0618 - val_accuracy: 0.9820 - val_loss: 0.0481\n",
            "Epoch 8/20\n",
            "\u001b[1m496/496\u001b[0m \u001b[32m━━━━━━━━━━━━━━━━━━━━\u001b[0m\u001b[37m\u001b[0m \u001b[1m1212s\u001b[0m 2s/step - accuracy: 0.9819 - loss: 0.0510 - val_accuracy: 0.9812 - val_loss: 0.0524\n",
            "Epoch 9/20\n",
            "\u001b[1m496/496\u001b[0m \u001b[32m━━━━━━━━━━━━━━━━━━━━\u001b[0m\u001b[37m\u001b[0m \u001b[1m1171s\u001b[0m 2s/step - accuracy: 0.9825 - loss: 0.0523 - val_accuracy: 0.9809 - val_loss: 0.0599\n",
            "Epoch 10/20\n",
            "\u001b[1m496/496\u001b[0m \u001b[32m━━━━━━━━━━━━━━━━━━━━\u001b[0m\u001b[37m\u001b[0m \u001b[1m1242s\u001b[0m 2s/step - accuracy: 0.9837 - loss: 0.0481 - val_accuracy: 0.9856 - val_loss: 0.0412\n",
            "Epoch 11/20\n",
            "\u001b[1m496/496\u001b[0m \u001b[32m━━━━━━━━━━━━━━━━━━━━\u001b[0m\u001b[37m\u001b[0m \u001b[1m1254s\u001b[0m 2s/step - accuracy: 0.9866 - loss: 0.0406 - val_accuracy: 0.9873 - val_loss: 0.0345\n",
            "Epoch 12/20\n",
            "\u001b[1m496/496\u001b[0m \u001b[32m━━━━━━━━━━━━━━━━━━━━\u001b[0m\u001b[37m\u001b[0m \u001b[1m1275s\u001b[0m 2s/step - accuracy: 0.9871 - loss: 0.0401 - val_accuracy: 0.9868 - val_loss: 0.0368\n",
            "Epoch 13/20\n",
            "\u001b[1m496/496\u001b[0m \u001b[32m━━━━━━━━━━━━━━━━━━━━\u001b[0m\u001b[37m\u001b[0m \u001b[1m1183s\u001b[0m 2s/step - accuracy: 0.9875 - loss: 0.0396 - val_accuracy: 0.9856 - val_loss: 0.0367\n",
            "Epoch 14/20\n",
            "\u001b[1m496/496\u001b[0m \u001b[32m━━━━━━━━━━━━━━━━━━━━\u001b[0m\u001b[37m\u001b[0m \u001b[1m1238s\u001b[0m 2s/step - accuracy: 0.9898 - loss: 0.0338 - val_accuracy: 0.9888 - val_loss: 0.0373\n",
            "Epoch 15/20\n",
            "\u001b[1m496/496\u001b[0m \u001b[32m━━━━━━━━━━━━━━━━━━━━\u001b[0m\u001b[37m\u001b[0m \u001b[1m1290s\u001b[0m 3s/step - accuracy: 0.9895 - loss: 0.0335 - val_accuracy: 0.9859 - val_loss: 0.0397\n",
            "Epoch 16/20\n",
            "\u001b[1m496/496\u001b[0m \u001b[32m━━━━━━━━━━━━━━━━━━━━\u001b[0m\u001b[37m\u001b[0m \u001b[1m1201s\u001b[0m 2s/step - accuracy: 0.9886 - loss: 0.0332 - val_accuracy: 0.9882 - val_loss: 0.0346\n"
          ]
        }
      ],
      "source": [
        "# -------- Adam Optimizer --------\n",
        "adam_model = build_resnet18_1d(input_shape)\n",
        "adam_model.compile(optimizer='adam', loss='binary_crossentropy', metrics=['accuracy'])\n",
        "history_adam = adam_model.fit(X_train, y_train, validation_data=(X_val, y_val),\n",
        "                              epochs=20, batch_size=32, callbacks=[early_stop])\n"
      ]
    },
    {
      "cell_type": "markdown",
      "metadata": {
        "id": "FmtioanXRCL0"
      },
      "source": [
        "Evaluate ResNet18 1D Model"
      ]
    },
    {
      "cell_type": "code",
      "execution_count": null,
      "metadata": {
        "colab": {
          "base_uri": "https://localhost:8080/"
        },
        "id": "MNtzsXKgCmYw",
        "outputId": "e3158b25-43c1-41cd-a91c-ecbf261f34a4"
      },
      "outputs": [
        {
          "name": "stdout",
          "output_type": "stream",
          "text": [
            "\u001b[1m107/107\u001b[0m \u001b[32m━━━━━━━━━━━━━━━━━━━━\u001b[0m\u001b[37m\u001b[0m \u001b[1m47s\u001b[0m 438ms/step - accuracy: 0.9907 - loss: 0.0287\n",
            "🔹 SGD Optimizer:\n",
            "Test Loss     : 0.0311\n",
            "Test Accuracy : 0.9885\n",
            "\u001b[1m107/107\u001b[0m \u001b[32m━━━━━━━━━━━━━━━━━━━━\u001b[0m\u001b[37m\u001b[0m \u001b[1m45s\u001b[0m 423ms/step - accuracy: 0.9886 - loss: 0.0326\n",
            "\n",
            "🔹 Adam Optimizer:\n",
            "Test Loss     : 0.0349\n",
            "Test Accuracy : 0.9879\n"
          ]
        }
      ],
      "source": [
        "# Evaluate SGD model\n",
        "sgd_test_loss, sgd_test_accuracy = sgd_model.evaluate(X_test, y_test, verbose=1)\n",
        "print(\"🔹 SGD Optimizer:\")\n",
        "print(f\"Test Loss     : {sgd_test_loss:.4f}\")\n",
        "print(f\"Test Accuracy : {sgd_test_accuracy:.4f}\")\n",
        "\n",
        "# Evaluate Adam model\n",
        "adam_test_loss, adam_test_accuracy = adam_model.evaluate(X_test, y_test, verbose=1)\n",
        "print(\"\\n🔹 Adam Optimizer:\")\n",
        "print(f\"Test Loss     : {adam_test_loss:.4f}\")\n",
        "print(f\"Test Accuracy : {adam_test_accuracy:.4f}\")\n"
      ]
    },
    {
      "cell_type": "code",
      "execution_count": null,
      "metadata": {
        "id": "0Zkw6B9uSxGX"
      },
      "outputs": [],
      "source": [
        "#Store results in a dictionary for comparison\n",
        "results = {\n",
        "    \"SGD\": {\"loss\": sgd_test_loss, \"accuracy\": sgd_test_accuracy},\n",
        "    \"Adam\": {\"loss\": adam_test_loss, \"accuracy\": adam_test_accuracy}\n",
        "}"
      ]
    },
    {
      "cell_type": "markdown",
      "metadata": {
        "id": "OJC732BpREHl"
      },
      "source": [
        "Plot ResNet18 1D Model Accuracy and Loss"
      ]
    },
    {
      "cell_type": "code",
      "execution_count": null,
      "metadata": {
        "colab": {
          "base_uri": "https://localhost:8080/",
          "height": 407
        },
        "id": "uJykg5LyxEuZ",
        "outputId": "b5029a86-6801-4cdf-d90b-3e4b15b16f63"
      },
      "outputs": [
        {
          "data": {
            "image/png": "[encoded data removed]",
            "text/plain": [
              "<Figure size 1000x400 with 2 Axes>"
            ]
          },
          "metadata": {},
          "output_type": "display_data"
        }
      ],
      "source": [
        "import matplotlib.pyplot as plt\n",
        "\n",
        "labels = ['SGD', 'Adam']\n",
        "accuracies = [sgd_test_accuracy, adam_test_accuracy]\n",
        "losses = [sgd_test_loss, adam_test_loss]\n",
        "\n",
        "plt.figure(figsize=(10, 4))\n",
        "\n",
        "# Accuracy comparison\n",
        "plt.subplot(1, 2, 1)\n",
        "plt.bar(labels, accuracies, color=['skyblue', 'lightgreen'])\n",
        "plt.title(\"Test Accuracy Comparison\")\n",
        "plt.ylabel(\"Accuracy\")\n",
        "\n",
        "# Loss comparison\n",
        "plt.subplot(1, 2, 2)\n",
        "plt.bar(labels, losses, color=['skyblue', 'lightgreen'])\n",
        "plt.title(\"Test Loss Comparison\")\n",
        "plt.ylabel(\"Loss\")\n",
        "\n",
        "plt.tight_layout()\n",
        "plt.show()\n"
      ]
    },
    {
      "cell_type": "markdown",
      "metadata": {
        "id": "o-runt-rRGKI"
      },
      "source": [
        "Confusion Matrix for ResNet18 1D"
      ]
    },
    {
      "cell_type": "code",
      "execution_count": null,
      "metadata": {
        "colab": {
          "base_uri": "https://localhost:8080/",
          "height": 1000
        },
        "id": "cbHY6kHEu0mN",
        "outputId": "09f092e1-0a7f-44ff-f23c-2301fddd7bd8"
      },
      "outputs": [
        {
          "name": "stdout",
          "output_type": "stream",
          "text": [
            "\u001b[1m107/107\u001b[0m \u001b[32m━━━━━━━━━━━━━━━━━━━━\u001b[0m\u001b[37m\u001b[0m \u001b[1m55s\u001b[0m 494ms/step\n",
            "\u001b[1m107/107\u001b[0m \u001b[32m━━━━━━━━━━━━━━━━━━━━\u001b[0m\u001b[37m\u001b[0m \u001b[1m48s\u001b[0m 438ms/step\n"
          ]
        },
        {
          "data": {
            "image/png": "[encoded data removed]",
            "text/plain": [
              "<Figure size 1200x500 with 4 Axes>"
            ]
          },
          "metadata": {},
          "output_type": "display_data"
        },
        {
          "name": "stdout",
          "output_type": "stream",
          "text": [
            "Classification Report (SGD):\n",
            "              precision    recall  f1-score   support\n",
            "\n",
            "           0       0.99      1.00      0.99      3019\n",
            "           1       0.96      0.93      0.95       379\n",
            "\n",
            "    accuracy                           0.99      3398\n",
            "   macro avg       0.98      0.96      0.97      3398\n",
            "weighted avg       0.99      0.99      0.99      3398\n",
            "\n",
            "Classification Report (Adam):\n",
            "              precision    recall  f1-score   support\n",
            "\n",
            "           0       0.99      1.00      0.99      3019\n",
            "           1       0.97      0.92      0.94       379\n",
            "\n",
            "    accuracy                           0.99      3398\n",
            "   macro avg       0.98      0.96      0.97      3398\n",
            "weighted avg       0.99      0.99      0.99      3398\n",
            "\n"
          ]
        },
        {
          "data": {
            "image/png": "[encoded data removed]",
            "text/plain": [
              "<Figure size 800x600 with 1 Axes>"
            ]
          },
          "metadata": {},
          "output_type": "display_data"
        }
      ],
      "source": [
        "from sklearn.metrics import (\n",
        "    confusion_matrix,\n",
        "    ConfusionMatrixDisplay,\n",
        "    classification_report,\n",
        "    roc_curve,\n",
        "    auc\n",
        ")\n",
        "import matplotlib.pyplot as plt\n",
        "import numpy as np\n",
        "\n",
        "# Get predictions\n",
        "# Corrected variable name from resnet18_1d_sgd_model to sgd_model\n",
        "y_pred_proba_sgd = sgd_model.predict(X_test)\n",
        "y_pred_sgd = (y_pred_proba_sgd > 0.5).astype(\"int32\")\n",
        "\n",
        "# Corrected variable name from resnet18_1d_adam_model to adam_model\n",
        "y_pred_proba_adam = adam_model.predict(X_test)\n",
        "y_pred_adam = (y_pred_proba_adam > 0.5).astype(\"int32\")\n",
        "\n",
        "# ------------------ CONFUSION MATRICES ------------------\n",
        "cm_sgd = confusion_matrix(y_test, y_pred_sgd)\n",
        "cm_adam = confusion_matrix(y_test, y_pred_adam)\n",
        "\n",
        "# Plot confusion matrices\n",
        "fig, ax = plt.subplots(1, 2, figsize=(12, 5))\n",
        "\n",
        "ConfusionMatrixDisplay(cm_sgd, display_labels=[0, 1]).plot(ax=ax[0], cmap=plt.cm.Blues)\n",
        "ax[0].set_title(\"SGD Confusion Matrix\")\n",
        "\n",
        "ConfusionMatrixDisplay(cm_adam, display_labels=[0, 1]).plot(ax=ax[1], cmap=plt.cm.Oranges)\n",
        "ax[1].set_title(\"Adam Confusion Matrix\")\n",
        "\n",
        "plt.tight_layout()\n",
        "plt.show()\n",
        "\n",
        "# ------------------ CLASSIFICATION REPORTS ------------------\n",
        "print(\"Classification Report (SGD):\")\n",
        "print(classification_report(y_test, y_pred_sgd))\n",
        "\n",
        "print(\"Classification Report (Adam):\")\n",
        "print(classification_report(y_test, y_pred_adam))\n",
        "\n",
        "# ------------------ ROC CURVE (Optional) ------------------\n",
        "fpr_sgd, tpr_sgd, _ = roc_curve(y_test, y_pred_proba_sgd)\n",
        "fpr_adam, tpr_adam, _ = roc_curve(y_test, y_pred_proba_adam)\n",
        "\n",
        "auc_sgd = auc(fpr_sgd, tpr_sgd)\n",
        "auc_adam = auc(fpr_adam, tpr_adam)\n",
        "\n",
        "plt.figure(figsize=(8, 6))\n",
        "plt.plot(fpr_sgd, tpr_sgd, label=f\"SGD (AUC = {auc_sgd:.2f})\")\n",
        "plt.plot(fpr_adam, tpr_adam, label=f\"Adam (AUC = {auc_adam:.2f})\")\n",
        "plt.plot([0, 1], [0, 1], linestyle='--', color='gray')\n",
        "plt.xlabel(\"False Positive Rate\")\n",
        "plt.ylabel(\"True Positive Rate\")\n",
        "plt.title(\"ROC Curve\")\n",
        "plt.legend()\n",
        "plt.grid(True)\n",
        "plt.show()"
      ]
    },
    {
      "cell_type": "code",
      "execution_count": null,
      "metadata": {
        "colab": {
          "base_uri": "https://localhost:8080/"
        },
        "id": "PEflqWCbtTHJ",
        "outputId": "ef525919-bd43-4890-a4b7-081e6bd1b073"
      },
      "outputs": [
        {
          "name": "stdout",
          "output_type": "stream",
          "text": [
            "Classification Report (ResNet18 - SGD):\n",
            "              precision    recall  f1-score   support\n",
            "\n",
            "           0       0.99      1.00      0.99      3019\n",
            "           1       0.96      0.93      0.95       379\n",
            "\n",
            "    accuracy                           0.99      3398\n",
            "   macro avg       0.98      0.96      0.97      3398\n",
            "weighted avg       0.99      0.99      0.99      3398\n",
            "\n",
            "Classification Report (ResNet18 - Adam):\n",
            "              precision    recall  f1-score   support\n",
            "\n",
            "           0       0.99      1.00      0.99      3019\n",
            "           1       0.97      0.92      0.94       379\n",
            "\n",
            "    accuracy                           0.99      3398\n",
            "   macro avg       0.98      0.96      0.97      3398\n",
            "weighted avg       0.99      0.99      0.99      3398\n",
            "\n"
          ]
        }
      ],
      "source": [
        "from sklearn.metrics import classification_report\n",
        "\n",
        "# --- ResNet18 (SGD and Adam) ---\n",
        "# Assuming you have y_test, y_pred_sgd, and y_pred_adam from previous steps\n",
        "print(\"Classification Report (ResNet18 - SGD):\")\n",
        "print(classification_report(y_test, y_pred_sgd))\n",
        "\n",
        "print(\"Classification Report (ResNet18 - Adam):\")\n",
        "print(classification_report(y_test, y_pred_adam))\n"
      ]
    },
    {
      "cell_type": "code",
      "execution_count": null,
      "metadata": {
        "id": "DHD24YofgeCH"
      },
      "outputs": [],
      "source": []
    },
    {
      "cell_type": "markdown",
      "metadata": {
        "id": "j7a3YQU0cI2i"
      },
      "source": [
        "# Define the ResNet50-1D model function\n",
        "\n"
      ]
    },
    {
      "cell_type": "code",
      "execution_count": null,
      "metadata": {
        "id": "E66AT-R8Y_Xd"
      },
      "outputs": [],
      "source": [
        "import tensorflow as tf\n",
        "from tensorflow.keras.models import Model\n",
        "from tensorflow.keras.layers import Input, Conv1D, BatchNormalization, Activation, Add, GlobalAveragePooling1D, Dense, Dropout\n",
        "from tensorflow.keras.callbacks import EarlyStopping\n",
        "\n",
        "# Bottleneck block\n",
        "def bottleneck_block(x, filters, kernel_size=3, stride=1):\n",
        "    shortcut = x\n",
        "    bottleneck_filters = filters // 4\n",
        "\n",
        "    x = Conv1D(bottleneck_filters, 1, strides=stride, padding='same', use_bias=False)(x)\n",
        "    x = BatchNormalization()(x)\n",
        "    x = Activation('relu')(x)\n",
        "\n",
        "    x = Conv1D(bottleneck_filters, kernel_size, strides=1, padding='same', use_bias=False)(x)\n",
        "    x = BatchNormalization()(x)\n",
        "    x = Activation('relu')(x)\n",
        "\n",
        "    x = Conv1D(filters, 1, strides=1, padding='same', use_bias=False)(x)\n",
        "    x = BatchNormalization()(x)\n",
        "\n",
        "    if shortcut.shape[-1] != filters or stride != 1:\n",
        "        shortcut = Conv1D(filters, 1, strides=stride, padding='same', use_bias=False)(shortcut)\n",
        "        shortcut = BatchNormalization()(shortcut)\n",
        "\n",
        "    x = Add()([shortcut, x])\n",
        "    x = Activation('relu')(x)\n",
        "    return x\n",
        "\n",
        "# ResNet50-1D\n",
        "def build_resnet50_1d(input_shape):\n",
        "    inputs = Input(shape=input_shape)\n",
        "    x = Conv1D(64, kernel_size=7, strides=2, padding='same', use_bias=False)(inputs)\n",
        "    x = BatchNormalization()(x)\n",
        "    x = Activation('relu')(x)\n",
        "\n",
        "    # ResNet Blocks\n",
        "    for _ in range(3): x = bottleneck_block(x, 256, stride=1)\n",
        "    x = bottleneck_block(x, 512, stride=2)\n",
        "    for _ in range(3): x = bottleneck_block(x, 512)\n",
        "    x = bottleneck_block(x, 1024, stride=2)\n",
        "    for _ in range(5): x = bottleneck_block(x, 1024)\n",
        "    x = bottleneck_block(x, 2048, stride=2)\n",
        "    for _ in range(2): x = bottleneck_block(x, 2048)\n",
        "\n",
        "    # Final layers\n",
        "    x = GlobalAveragePooling1D()(x)\n",
        "    x = Dropout(0.5)(x)\n",
        "    x = Dense(256, activation='relu')(x)\n",
        "    x = Dropout(0.3)(x)\n",
        "    outputs = Dense(1, activation='sigmoid')(x)\n",
        "\n",
        "    return Model(inputs, outputs)\n"
      ]
    },
    {
      "cell_type": "markdown",
      "metadata": {
        "id": "6lmMz7oUihGo"
      },
      "source": [
        " Train ResNet50 without augmentation"
      ]
    },
    {
      "cell_type": "code",
      "execution_count": null,
      "metadata": {
        "colab": {
          "background_save": true,
          "base_uri": "https://localhost:8080/"
        },
        "id": "wZxoj_dmhCMY",
        "outputId": "b9b292d7-9566-43db-bbd7-3148a70e61e4"
      },
      "outputs": [
        {
          "name": "stdout",
          "output_type": "stream",
          "text": [
            "Epoch 1/10\n",
            "\u001b[1m496/496\u001b[0m \u001b[32m━━━━━━━━━━━━━━━━━━━━\u001b[0m\u001b[37m\u001b[0m \u001b[1m3242s\u001b[0m 6s/step - accuracy: 0.9251 - loss: 0.2843 - val_accuracy: 0.9597 - val_loss: 0.1138\n",
            "Epoch 2/10\n",
            "\u001b[1m496/496\u001b[0m \u001b[32m━━━━━━━━━━━━━━━━━━━━\u001b[0m\u001b[37m\u001b[0m \u001b[1m3294s\u001b[0m 7s/step - accuracy: 0.9623 - loss: 0.1042 - val_accuracy: 0.9626 - val_loss: 0.1075\n",
            "Epoch 3/10\n",
            "\u001b[1m496/496\u001b[0m \u001b[32m━━━━━━━━━━━━━━━━━━━━\u001b[0m\u001b[37m\u001b[0m \u001b[1m3217s\u001b[0m 6s/step - accuracy: 0.9707 - loss: 0.0877 - val_accuracy: 0.9588 - val_loss: 0.1155\n",
            "Epoch 4/10\n",
            "\u001b[1m496/496\u001b[0m \u001b[32m━━━━━━━━━━━━━━━━━━━━\u001b[0m\u001b[37m\u001b[0m \u001b[1m3252s\u001b[0m 7s/step - accuracy: 0.9719 - loss: 0.0859 - val_accuracy: 0.9703 - val_loss: 0.0779\n",
            "Epoch 5/10\n",
            "\u001b[1m496/496\u001b[0m \u001b[32m━━━━━━━━━━━━━━━━━━━━\u001b[0m\u001b[37m\u001b[0m \u001b[1m3263s\u001b[0m 7s/step - accuracy: 0.9685 - loss: 0.0825 - val_accuracy: 0.9564 - val_loss: 0.1516\n",
            "Epoch 6/10\n",
            "\u001b[1m496/496\u001b[0m \u001b[32m━━━━━━━━━━━━━━━━━━━━\u001b[0m\u001b[37m\u001b[0m \u001b[1m3254s\u001b[0m 6s/step - accuracy: 0.9747 - loss: 0.0743 - val_accuracy: 0.9665 - val_loss: 0.0983\n",
            "Epoch 7/10\n",
            "\u001b[1m496/496\u001b[0m \u001b[32m━━━━━━━━━━━━━━━━━━━━\u001b[0m\u001b[37m\u001b[0m \u001b[1m3279s\u001b[0m 7s/step - accuracy: 0.9759 - loss: 0.0694 - val_accuracy: 0.9756 - val_loss: 0.0698\n",
            "Epoch 8/10\n",
            "\u001b[1m496/496\u001b[0m \u001b[32m━━━━━━━━━━━━━━━━━━━━\u001b[0m\u001b[37m\u001b[0m \u001b[1m3243s\u001b[0m 6s/step - accuracy: 0.9798 - loss: 0.0597 - val_accuracy: 0.9205 - val_loss: 0.5701\n",
            "Epoch 9/10\n",
            "\u001b[1m496/496\u001b[0m \u001b[32m━━━━━━━━━━━━━━━━━━━━\u001b[0m\u001b[37m\u001b[0m \u001b[1m3188s\u001b[0m 6s/step - accuracy: 0.9814 - loss: 0.0616 - val_accuracy: 0.9800 - val_loss: 0.0530\n",
            "Epoch 10/10\n",
            "\u001b[1m496/496\u001b[0m \u001b[32m━━━━━━━━━━━━━━━━━━━━\u001b[0m\u001b[37m\u001b[0m \u001b[1m3205s\u001b[0m 6s/step - accuracy: 0.9838 - loss: 0.0525 - val_accuracy: 0.9859 - val_loss: 0.0457\n"
          ]
        }
      ],
      "source": [
        "model_no_aug = build_resnet50_1d(X_train.shape[1:])\n",
        "model_no_aug.compile(optimizer='adam', loss='binary_crossentropy', metrics=['accuracy'])\n",
        "\n",
        "early_stop = EarlyStopping(monitor='val_loss', patience=5, restore_best_weights=True)\n",
        "\n",
        "history_no_aug = model_no_aug.fit(\n",
        "    X_train, y_train,\n",
        "    epochs=10,\n",
        "    batch_size=32,\n",
        "    validation_data=(X_val, y_val),\n",
        "    callbacks=[early_stop],\n",
        "    verbose=1\n",
        ")\n"
      ]
    },
    {
      "cell_type": "code",
      "execution_count": null,
      "metadata": {
        "id": "wcIa-s0vp2CK",
        "colab": {
          "base_uri": "https://localhost:8080/"
        },
        "outputId": "45db64d2-9a26-475e-ac71-d261d57dd2b6"
      },
      "outputs": [
        {
          "output_type": "stream",
          "name": "stdout",
          "text": [
            "Training Accuracy (last epoch): 0.9830\n",
            "Training Loss (last epoch): 0.0539\n",
            "Validation Accuracy (best epoch): 0.9859\n",
            "Validation Loss (best epoch): 0.0457\n",
            "Testing Accuracy: 0.9838\n",
            "Testing Loss: 0.0445\n"
          ]
        }
      ],
      "source": [
        "# Get training history\n",
        "train_loss = history_no_aug.history['loss']\n",
        "train_accuracy = history_no_aug.history['accuracy']\n",
        "val_loss = history_no_aug.history['val_loss']\n",
        "val_accuracy = history_no_aug.history['val_accuracy']\n",
        "\n",
        "# Evaluate the model on the test set\n",
        "test_loss, test_accuracy = model_no_aug.evaluate(X_test, y_test, verbose=0)\n",
        "\n",
        "# Print the results\n",
        "print(f\"Training Accuracy (last epoch): {train_accuracy[-1]:.4f}\")\n",
        "print(f\"Training Loss (last epoch): {train_loss[-1]:.4f}\")\n",
        "print(f\"Validation Accuracy (best epoch): {val_accuracy[np.argmin(val_loss)]:.4f}\") # Get accuracy at the epoch with best validation loss\n",
        "print(f\"Validation Loss (best epoch): {np.min(val_loss):.4f}\")\n",
        "print(f\"Testing Accuracy: {test_accuracy:.4f}\")\n",
        "print(f\"Testing Loss: {test_loss:.4f}\")"
      ]
    },
    {
      "cell_type": "code",
      "execution_count": null,
      "metadata": {
        "id": "ZJghQLEdpMyA",
        "colab": {
          "base_uri": "https://localhost:8080/",
          "height": 1000
        },
        "outputId": "0a2b07bf-45fd-4a65-cd79-20525cf52935"
      },
      "outputs": [
        {
          "output_type": "stream",
          "name": "stdout",
          "text": [
            "\u001b[1m107/107\u001b[0m \u001b[32m━━━━━━━━━━━━━━━━━━━━\u001b[0m\u001b[37m\u001b[0m \u001b[1m148s\u001b[0m 1s/step\n",
            "Confusion Matrix for ResNet50 1D:\n",
            "[[3006   13]\n",
            " [  42  337]]\n"
          ]
        },
        {
          "output_type": "display_data",
          "data": {
            "text/plain": [
              "<Figure size 600x500 with 2 Axes>"
            ],
            "image/png": "[encoded data removed]"
          },
          "metadata": {}
        },
        {
          "output_type": "stream",
          "name": "stdout",
          "text": [
            "Classification Report (ResNet50 1D):\n",
            "              precision    recall  f1-score   support\n",
            "\n",
            "           0       0.99      1.00      0.99      3019\n",
            "           1       0.96      0.89      0.92       379\n",
            "\n",
            "    accuracy                           0.98      3398\n",
            "   macro avg       0.97      0.94      0.96      3398\n",
            "weighted avg       0.98      0.98      0.98      3398\n",
            "\n"
          ]
        },
        {
          "output_type": "display_data",
          "data": {
            "text/plain": [
              "<Figure size 800x600 with 1 Axes>"
            ],
            "image/png": "[encoded data removed]"
          },
          "metadata": {}
        }
      ],
      "source": [
        "from sklearn.metrics import (\n",
        "    confusion_matrix,\n",
        "    ConfusionMatrixDisplay,\n",
        "    classification_report,\n",
        "    roc_curve,\n",
        "    auc\n",
        ")\n",
        "import matplotlib.pyplot as plt\n",
        "import numpy as np\n",
        "\n",
        "# Assuming 'model_no_aug' is your trained ResNet50 1D model\n",
        "# Get predictions on the test set\n",
        "y_pred_proba_resnet50 = model_no_aug.predict(X_test)\n",
        "y_pred_resnet50 = (y_pred_proba_resnet50 > 0.5).astype(\"int32\")\n",
        "\n",
        "# ------------------ CONFUSION MATRIX ------------------\n",
        "cm_resnet50 = confusion_matrix(y_test, y_pred_resnet50)\n",
        "\n",
        "print(\"Confusion Matrix for ResNet50 1D:\")\n",
        "print(cm_resnet50)\n",
        "\n",
        "# Plot confusion matrix\n",
        "fig, ax = plt.subplots(figsize=(6, 5))\n",
        "ConfusionMatrixDisplay(cm_resnet50, display_labels=[0, 1]).plot(ax=ax, cmap=plt.cm.Blues)\n",
        "ax.set_title(\"ResNet50 1D Confusion Matrix\")\n",
        "plt.tight_layout()\n",
        "plt.show()\n",
        "\n",
        "# ------------------ CLASSIFICATION REPORT ------------------\n",
        "print(\"Classification Report (ResNet50 1D):\")\n",
        "print(classification_report(y_test, y_pred_resnet50))\n",
        "\n",
        "# ------------------ ROC CURVE ------------------\n",
        "fpr_resnet50, tpr_resnet50, _ = roc_curve(y_test, y_pred_proba_resnet50)\n",
        "auc_resnet50 = auc(fpr_resnet50, tpr_resnet50)\n",
        "\n",
        "plt.figure(figsize=(8, 6))\n",
        "plt.plot(fpr_resnet50, tpr_resnet50, label=f\"ResNet50 1D (AUC = {auc_resnet50:.2f})\")\n",
        "plt.plot([0, 1], [0, 1], linestyle='--', color='gray')\n",
        "plt.xlabel(\"False Positive Rate\")\n",
        "plt.ylabel(\"True Positive Rate\")\n",
        "plt.title(\"ROC Curve for ResNet50 1D\")\n",
        "plt.legend()\n",
        "plt.grid(True)\n",
        "plt.show()"
      ]
    },
    {
      "cell_type": "markdown",
      "metadata": {
        "id": "rTNVLhGJRzMn"
      },
      "source": [
        "# Build LSTM Model"
      ]
    },
    {
      "cell_type": "code",
      "execution_count": null,
      "metadata": {
        "colab": {
          "base_uri": "https://localhost:8080/",
          "height": 413
        },
        "id": "6TzRlkiWoCxl",
        "outputId": "989a991a-3b86-4acd-99e3-1dd7583ee155"
      },
      "outputs": [
        {
          "name": "stderr",
          "output_type": "stream",
          "text": [
            "/usr/local/lib/python3.11/dist-packages/keras/src/layers/rnn/rnn.py:200: UserWarning: Do not pass an `input_shape`/`input_dim` argument to a layer. When using Sequential models, prefer using an `Input(shape)` object as the first layer in the model instead.\n",
            "  super().__init__(**kwargs)\n"
          ]
        },
        {
          "data": {
            "text/html": [
              "<pre style=\"white-space:pre;overflow-x:auto;line-height:normal;font-family:Menlo,'DejaVu Sans Mono',consolas,'Courier New',monospace\"><span style=\"font-weight: bold\">Model: \"sequential\"</span>\n",
              "</pre>\n"
            ],
            "text/plain": [
              "\u001b[1mModel: \"sequential\"\u001b[0m\n"
            ]
          },
          "metadata": {},
          "output_type": "display_data"
        },
        {
          "data": {
            "text/html": [
              "<pre style=\"white-space:pre;overflow-x:auto;line-height:normal;font-family:Menlo,'DejaVu Sans Mono',consolas,'Courier New',monospace\">┏━━━━━━━━━━━━━━━━━━━━━━━━━━━━━━━━━┳━━━━━━━━━━━━━━━━━━━━━━━━┳━━━━━━━━━━━━━━━┓\n",
              "┃<span style=\"font-weight: bold\"> Layer (type)                    </span>┃<span style=\"font-weight: bold\"> Output Shape           </span>┃<span style=\"font-weight: bold\">       Param # </span>┃\n",
              "┡━━━━━━━━━━━━━━━━━━━━━━━━━━━━━━━━━╇━━━━━━━━━━━━━━━━━━━━━━━━╇━━━━━━━━━━━━━━━┩\n",
              "│ lstm (<span style=\"color: #0087ff; text-decoration-color: #0087ff\">LSTM</span>)                     │ (<span style=\"color: #00d7ff; text-decoration-color: #00d7ff\">None</span>, <span style=\"color: #00af00; text-decoration-color: #00af00\">977</span>, <span style=\"color: #00af00; text-decoration-color: #00af00\">64</span>)        │        <span style=\"color: #00af00; text-decoration-color: #00af00\">18,944</span> │\n",
              "├─────────────────────────────────┼────────────────────────┼───────────────┤\n",
              "│ dropout (<span style=\"color: #0087ff; text-decoration-color: #0087ff\">Dropout</span>)               │ (<span style=\"color: #00d7ff; text-decoration-color: #00d7ff\">None</span>, <span style=\"color: #00af00; text-decoration-color: #00af00\">977</span>, <span style=\"color: #00af00; text-decoration-color: #00af00\">64</span>)        │             <span style=\"color: #00af00; text-decoration-color: #00af00\">0</span> │\n",
              "├─────────────────────────────────┼────────────────────────┼───────────────┤\n",
              "│ lstm_1 (<span style=\"color: #0087ff; text-decoration-color: #0087ff\">LSTM</span>)                   │ (<span style=\"color: #00d7ff; text-decoration-color: #00d7ff\">None</span>, <span style=\"color: #00af00; text-decoration-color: #00af00\">32</span>)             │        <span style=\"color: #00af00; text-decoration-color: #00af00\">12,416</span> │\n",
              "├─────────────────────────────────┼────────────────────────┼───────────────┤\n",
              "│ dropout_1 (<span style=\"color: #0087ff; text-decoration-color: #0087ff\">Dropout</span>)             │ (<span style=\"color: #00d7ff; text-decoration-color: #00d7ff\">None</span>, <span style=\"color: #00af00; text-decoration-color: #00af00\">32</span>)             │             <span style=\"color: #00af00; text-decoration-color: #00af00\">0</span> │\n",
              "├─────────────────────────────────┼────────────────────────┼───────────────┤\n",
              "│ dense (<span style=\"color: #0087ff; text-decoration-color: #0087ff\">Dense</span>)                   │ (<span style=\"color: #00d7ff; text-decoration-color: #00d7ff\">None</span>, <span style=\"color: #00af00; text-decoration-color: #00af00\">64</span>)             │         <span style=\"color: #00af00; text-decoration-color: #00af00\">2,112</span> │\n",
              "├─────────────────────────────────┼────────────────────────┼───────────────┤\n",
              "│ dropout_2 (<span style=\"color: #0087ff; text-decoration-color: #0087ff\">Dropout</span>)             │ (<span style=\"color: #00d7ff; text-decoration-color: #00d7ff\">None</span>, <span style=\"color: #00af00; text-decoration-color: #00af00\">64</span>)             │             <span style=\"color: #00af00; text-decoration-color: #00af00\">0</span> │\n",
              "├─────────────────────────────────┼────────────────────────┼───────────────┤\n",
              "│ dense_1 (<span style=\"color: #0087ff; text-decoration-color: #0087ff\">Dense</span>)                 │ (<span style=\"color: #00d7ff; text-decoration-color: #00d7ff\">None</span>, <span style=\"color: #00af00; text-decoration-color: #00af00\">1</span>)              │            <span style=\"color: #00af00; text-decoration-color: #00af00\">65</span> │\n",
              "└─────────────────────────────────┴────────────────────────┴───────────────┘\n",
              "</pre>\n"
            ],
            "text/plain": [
              "┏━━━━━━━━━━━━━━━━━━━━━━━━━━━━━━━━━┳━━━━━━━━━━━━━━━━━━━━━━━━┳━━━━━━━━━━━━━━━┓\n",
              "┃\u001b[1m \u001b[0m\u001b[1mLayer (type)                   \u001b[0m\u001b[1m \u001b[0m┃\u001b[1m \u001b[0m\u001b[1mOutput Shape          \u001b[0m\u001b[1m \u001b[0m┃\u001b[1m \u001b[0m\u001b[1m      Param #\u001b[0m\u001b[1m \u001b[0m┃\n",
              "┡━━━━━━━━━━━━━━━━━━━━━━━━━━━━━━━━━╇━━━━━━━━━━━━━━━━━━━━━━━━╇━━━━━━━━━━━━━━━┩\n",
              "│ lstm (\u001b[38;5;33mLSTM\u001b[0m)                     │ (\u001b[38;5;45mNone\u001b[0m, \u001b[38;5;34m977\u001b[0m, \u001b[38;5;34m64\u001b[0m)        │        \u001b[38;5;34m18,944\u001b[0m │\n",
              "├─────────────────────────────────┼────────────────────────┼───────────────┤\n",
              "│ dropout (\u001b[38;5;33mDropout\u001b[0m)               │ (\u001b[38;5;45mNone\u001b[0m, \u001b[38;5;34m977\u001b[0m, \u001b[38;5;34m64\u001b[0m)        │             \u001b[38;5;34m0\u001b[0m │\n",
              "├─────────────────────────────────┼────────────────────────┼───────────────┤\n",
              "│ lstm_1 (\u001b[38;5;33mLSTM\u001b[0m)                   │ (\u001b[38;5;45mNone\u001b[0m, \u001b[38;5;34m32\u001b[0m)             │        \u001b[38;5;34m12,416\u001b[0m │\n",
              "├─────────────────────────────────┼────────────────────────┼───────────────┤\n",
              "│ dropout_1 (\u001b[38;5;33mDropout\u001b[0m)             │ (\u001b[38;5;45mNone\u001b[0m, \u001b[38;5;34m32\u001b[0m)             │             \u001b[38;5;34m0\u001b[0m │\n",
              "├─────────────────────────────────┼────────────────────────┼───────────────┤\n",
              "│ dense (\u001b[38;5;33mDense\u001b[0m)                   │ (\u001b[38;5;45mNone\u001b[0m, \u001b[38;5;34m64\u001b[0m)             │         \u001b[38;5;34m2,112\u001b[0m │\n",
              "├─────────────────────────────────┼────────────────────────┼───────────────┤\n",
              "│ dropout_2 (\u001b[38;5;33mDropout\u001b[0m)             │ (\u001b[38;5;45mNone\u001b[0m, \u001b[38;5;34m64\u001b[0m)             │             \u001b[38;5;34m0\u001b[0m │\n",
              "├─────────────────────────────────┼────────────────────────┼───────────────┤\n",
              "│ dense_1 (\u001b[38;5;33mDense\u001b[0m)                 │ (\u001b[38;5;45mNone\u001b[0m, \u001b[38;5;34m1\u001b[0m)              │            \u001b[38;5;34m65\u001b[0m │\n",
              "└─────────────────────────────────┴────────────────────────┴───────────────┘\n"
            ]
          },
          "metadata": {},
          "output_type": "display_data"
        },
        {
          "data": {
            "text/html": [
              "<pre style=\"white-space:pre;overflow-x:auto;line-height:normal;font-family:Menlo,'DejaVu Sans Mono',consolas,'Courier New',monospace\"><span style=\"font-weight: bold\"> Total params: </span><span style=\"color: #00af00; text-decoration-color: #00af00\">33,537</span> (131.00 KB)\n",
              "</pre>\n"
            ],
            "text/plain": [
              "\u001b[1m Total params: \u001b[0m\u001b[38;5;34m33,537\u001b[0m (131.00 KB)\n"
            ]
          },
          "metadata": {},
          "output_type": "display_data"
        },
        {
          "data": {
            "text/html": [
              "<pre style=\"white-space:pre;overflow-x:auto;line-height:normal;font-family:Menlo,'DejaVu Sans Mono',consolas,'Courier New',monospace\"><span style=\"font-weight: bold\"> Trainable params: </span><span style=\"color: #00af00; text-decoration-color: #00af00\">33,537</span> (131.00 KB)\n",
              "</pre>\n"
            ],
            "text/plain": [
              "\u001b[1m Trainable params: \u001b[0m\u001b[38;5;34m33,537\u001b[0m (131.00 KB)\n"
            ]
          },
          "metadata": {},
          "output_type": "display_data"
        },
        {
          "data": {
            "text/html": [
              "<pre style=\"white-space:pre;overflow-x:auto;line-height:normal;font-family:Menlo,'DejaVu Sans Mono',consolas,'Courier New',monospace\"><span style=\"font-weight: bold\"> Non-trainable params: </span><span style=\"color: #00af00; text-decoration-color: #00af00\">0</span> (0.00 B)\n",
              "</pre>\n"
            ],
            "text/plain": [
              "\u001b[1m Non-trainable params: \u001b[0m\u001b[38;5;34m0\u001b[0m (0.00 B)\n"
            ]
          },
          "metadata": {},
          "output_type": "display_data"
        }
      ],
      "source": [
        "import tensorflow as tf\n",
        "from tensorflow.keras.models import Sequential\n",
        "from tensorflow.keras.layers import LSTM, Dense, Dropout\n",
        "from tensorflow.keras.callbacks import EarlyStopping\n",
        "import numpy as np\n",
        "\n",
        "# Dynamically get the input shape from the training data\n",
        "# X_train shape is (batch_size, timesteps, features)\n",
        "# We need (timesteps, features) for the input layer\n",
        "# Ensure X_train is defined before this part in your notebook\n",
        "input_shape = X_train.shape[1:]\n",
        "\n",
        "lstm_model = Sequential()\n",
        "# Add the first LSTM layer, return_sequences=True to output sequences\n",
        "lstm_model.add(LSTM(64, return_sequences=True, input_shape=input_shape))\n",
        "# Add Dropout after the first LSTM\n",
        "lstm_model.add(Dropout(0.4))\n",
        "# Add a second LSTM layer, no return_sequences=True as it's not followed by another LSTM\n",
        "lstm_model.add(LSTM(32, return_sequences=False)) # You can adjust the number of units\n",
        "# Add Dropout after the second LSTM\n",
        "lstm_model.add(Dropout(0.3))\n",
        "# Add a Dense layer\n",
        "lstm_model.add(Dense(64, activation='tanh'))\n",
        "# Add another Dropout layer\n",
        "lstm_model.add(Dropout(0.2))\n",
        "# Output layer\n",
        "lstm_model.add(Dense(1, activation='sigmoid'))\n",
        "\n",
        "# Compile the model\n",
        "lstm_model.compile(optimizer='adam', loss='binary_crossentropy', metrics=['accuracy'])\n",
        "\n",
        "# Print the model summary\n",
        "lstm_model.summary()"
      ]
    },
    {
      "cell_type": "markdown",
      "metadata": {
        "id": "jJKUZBUyR1BS"
      },
      "source": [
        "Train LSTM Model"
      ]
    },
    {
      "cell_type": "code",
      "execution_count": null,
      "metadata": {
        "colab": {
          "base_uri": "https://localhost:8080/"
        },
        "id": "vy4weGUnoE05",
        "outputId": "26b5c999-7688-4d76-ad08-a78244573c2a"
      },
      "outputs": [
        {
          "name": "stdout",
          "output_type": "stream",
          "text": [
            "Epoch 1/20\n",
            "\u001b[1m496/496\u001b[0m \u001b[32m━━━━━━━━━━━━━━━━━━━━\u001b[0m\u001b[37m\u001b[0m \u001b[1m272s\u001b[0m 543ms/step - accuracy: 0.8748 - loss: 0.3776 - val_accuracy: 0.8982 - val_loss: 0.3198\n",
            "Epoch 2/20\n",
            "\u001b[1m496/496\u001b[0m \u001b[32m━━━━━━━━━━━━━━━━━━━━\u001b[0m\u001b[37m\u001b[0m \u001b[1m339s\u001b[0m 578ms/step - accuracy: 0.8969 - loss: 0.3128 - val_accuracy: 0.8893 - val_loss: 0.3135\n",
            "Epoch 3/20\n",
            "\u001b[1m496/496\u001b[0m \u001b[32m━━━━━━━━━━━━━━━━━━━━\u001b[0m\u001b[37m\u001b[0m \u001b[1m325s\u001b[0m 585ms/step - accuracy: 0.8997 - loss: 0.2934 - val_accuracy: 0.8932 - val_loss: 0.3219\n",
            "Epoch 4/20\n",
            "\u001b[1m496/496\u001b[0m \u001b[32m━━━━━━━━━━━━━━━━━━━━\u001b[0m\u001b[37m\u001b[0m \u001b[1m318s\u001b[0m 576ms/step - accuracy: 0.8951 - loss: 0.3250 - val_accuracy: 0.9011 - val_loss: 0.2957\n",
            "Epoch 5/20\n",
            "\u001b[1m496/496\u001b[0m \u001b[32m━━━━━━━━━━━━━━━━━━━━\u001b[0m\u001b[37m\u001b[0m \u001b[1m332s\u001b[0m 596ms/step - accuracy: 0.9118 - loss: 0.2731 - val_accuracy: 0.9029 - val_loss: 0.2738\n",
            "Epoch 6/20\n",
            "\u001b[1m496/496\u001b[0m \u001b[32m━━━━━━━━━━━━━━━━━━━━\u001b[0m\u001b[37m\u001b[0m \u001b[1m331s\u001b[0m 615ms/step - accuracy: 0.9159 - loss: 0.2576 - val_accuracy: 0.9264 - val_loss: 0.2520\n",
            "Epoch 7/20\n",
            "\u001b[1m496/496\u001b[0m \u001b[32m━━━━━━━━━━━━━━━━━━━━\u001b[0m\u001b[37m\u001b[0m \u001b[1m311s\u001b[0m 593ms/step - accuracy: 0.9251 - loss: 0.2525 - val_accuracy: 0.9273 - val_loss: 0.2469\n",
            "Epoch 8/20\n",
            "\u001b[1m496/496\u001b[0m \u001b[32m━━━━━━━━━━━━━━━━━━━━\u001b[0m\u001b[37m\u001b[0m \u001b[1m323s\u001b[0m 594ms/step - accuracy: 0.9306 - loss: 0.2447 - val_accuracy: 0.9188 - val_loss: 0.2563\n",
            "Epoch 9/20\n",
            "\u001b[1m496/496\u001b[0m \u001b[32m━━━━━━━━━━━━━━━━━━━━\u001b[0m\u001b[37m\u001b[0m \u001b[1m339s\u001b[0m 629ms/step - accuracy: 0.9170 - loss: 0.2609 - val_accuracy: 0.9232 - val_loss: 0.2528\n",
            "Epoch 10/20\n",
            "\u001b[1m496/496\u001b[0m \u001b[32m━━━━━━━━━━━━━━━━━━━━\u001b[0m\u001b[37m\u001b[0m \u001b[1m309s\u001b[0m 602ms/step - accuracy: 0.9246 - loss: 0.2495 - val_accuracy: 0.9273 - val_loss: 0.2422\n",
            "Epoch 11/20\n",
            "\u001b[1m496/496\u001b[0m \u001b[32m━━━━━━━━━━━━━━━━━━━━\u001b[0m\u001b[37m\u001b[0m \u001b[1m302s\u001b[0m 609ms/step - accuracy: 0.9201 - loss: 0.2524 - val_accuracy: 0.9135 - val_loss: 0.2727\n",
            "Epoch 12/20\n",
            "\u001b[1m496/496\u001b[0m \u001b[32m━━━━━━━━━━━━━━━━━━━━\u001b[0m\u001b[37m\u001b[0m \u001b[1m322s\u001b[0m 609ms/step - accuracy: 0.9087 - loss: 0.2762 - val_accuracy: 0.9147 - val_loss: 0.2714\n",
            "Epoch 13/20\n",
            "\u001b[1m496/496\u001b[0m \u001b[32m━━━━━━━━━━━━━━━━━━━━\u001b[0m\u001b[37m\u001b[0m \u001b[1m324s\u001b[0m 613ms/step - accuracy: 0.9145 - loss: 0.2713 - val_accuracy: 0.9202 - val_loss: 0.2416\n",
            "Epoch 14/20\n",
            "\u001b[1m496/496\u001b[0m \u001b[32m━━━━━━━━━━━━━━━━━━━━\u001b[0m\u001b[37m\u001b[0m \u001b[1m314s\u001b[0m 598ms/step - accuracy: 0.9237 - loss: 0.2446 - val_accuracy: 0.9202 - val_loss: 0.2595\n",
            "Epoch 15/20\n",
            "\u001b[1m496/496\u001b[0m \u001b[32m━━━━━━━━━━━━━━━━━━━━\u001b[0m\u001b[37m\u001b[0m \u001b[1m318s\u001b[0m 590ms/step - accuracy: 0.9262 - loss: 0.2405 - val_accuracy: 0.9279 - val_loss: 0.2439\n",
            "Epoch 16/20\n",
            "\u001b[1m496/496\u001b[0m \u001b[32m━━━━━━━━━━━━━━━━━━━━\u001b[0m\u001b[37m\u001b[0m \u001b[1m330s\u001b[0m 606ms/step - accuracy: 0.9248 - loss: 0.2460 - val_accuracy: 0.9055 - val_loss: 0.2963\n",
            "Epoch 17/20\n",
            "\u001b[1m496/496\u001b[0m \u001b[32m━━━━━━━━━━━━━━━━━━━━\u001b[0m\u001b[37m\u001b[0m \u001b[1m317s\u001b[0m 596ms/step - accuracy: 0.8965 - loss: 0.3200 - val_accuracy: 0.9105 - val_loss: 0.2845\n",
            "Epoch 18/20\n",
            "\u001b[1m496/496\u001b[0m \u001b[32m━━━━━━━━━━━━━━━━━━━━\u001b[0m\u001b[37m\u001b[0m \u001b[1m302s\u001b[0m 609ms/step - accuracy: 0.9154 - loss: 0.2774 - val_accuracy: 0.8917 - val_loss: 0.3081\n"
          ]
        }
      ],
      "source": [
        "\n",
        "# %%\n",
        "# Train the LSTM model\n",
        "from tensorflow.keras.callbacks import EarlyStopping\n",
        "\n",
        "# Define Early Stopping callback\n",
        "early_stop = EarlyStopping(monitor='val_loss', patience=5, restore_best_weights=True)\n",
        "\n",
        "# Train the model\n",
        "# Make sure X_train, y_train, X_val, and y_val are available from your data splitting\n",
        "history_lstm = lstm_model.fit(\n",
        "    X_train, y_train,\n",
        "    epochs=20,  # You can adjust the number of epochs\n",
        "    batch_size=32, # You can adjust the batch size\n",
        "    validation_data=(X_val, y_val),\n",
        "    callbacks=[early_stop] # Add the early stopping callback\n",
        ")\n"
      ]
    },
    {
      "cell_type": "markdown",
      "metadata": {
        "id": "3AwQWeSQR48V"
      },
      "source": [
        "Evaluate LSTM Model\n",
        "\n",
        "Plot LSTM Model Accuracy and Loss"
      ]
    },
    {
      "cell_type": "code",
      "execution_count": null,
      "metadata": {
        "colab": {
          "base_uri": "https://localhost:8080/",
          "height": 459
        },
        "id": "7XityowRoNZw",
        "outputId": "287746e5-af54-4214-c28c-e373fb0a10b1"
      },
      "outputs": [
        {
          "name": "stdout",
          "output_type": "stream",
          "text": [
            "\u001b[1m107/107\u001b[0m \u001b[32m━━━━━━━━━━━━━━━━━━━━\u001b[0m\u001b[37m\u001b[0m \u001b[1m16s\u001b[0m 153ms/step - accuracy: 0.9139 - loss: 0.2595\n",
            "LSTM Test Loss: 0.2506\n",
            "LSTM Test Accuracy: 0.9158\n"
          ]
        },
        {
          "data": {
            "image/png": "[encoded data removed]",
            "text/plain": [
              "<Figure size 1200x400 with 2 Axes>"
            ]
          },
          "metadata": {},
          "output_type": "display_data"
        }
      ],
      "source": [
        "\n",
        "# %%\n",
        "# Evaluate the LSTM model on the test set\n",
        "test_loss_lstm, test_accuracy_lstm = lstm_model.evaluate(X_test, y_test, verbose=1)\n",
        "\n",
        "print(f\"LSTM Test Loss: {test_loss_lstm:.4f}\")\n",
        "print(f\"LSTM Test Accuracy: {test_accuracy_lstm:.4f}\")\n",
        "\n",
        "# %%\n",
        "import matplotlib.pyplot as plt\n",
        "\n",
        "# Make sure the history_lstm object from training is available\n",
        "\n",
        "# Plot accuracy\n",
        "plt.figure(figsize=(12, 4))\n",
        "plt.subplot(1, 2, 1)\n",
        "plt.plot(history_lstm.history['accuracy'], label='Train Accuracy')\n",
        "plt.plot(history_lstm.history['val_accuracy'], label='Validation Accuracy')\n",
        "plt.title('LSTM Model Accuracy')\n",
        "plt.xlabel('Epoch')\n",
        "plt.ylabel('Accuracy')\n",
        "plt.legend()\n",
        "\n",
        "# Plot loss\n",
        "plt.subplot(1, 2, 2)\n",
        "plt.plot(history_lstm.history['loss'], label='Train Loss')\n",
        "plt.plot(history_lstm.history['val_loss'], label='Validation Loss')\n",
        "plt.title('LSTM Model Loss')\n",
        "plt.xlabel('Epoch')\n",
        "plt.ylabel('Loss')\n",
        "plt.legend()\n",
        "\n",
        "plt.tight_layout()\n",
        "plt.show()"
      ]
    },
    {
      "cell_type": "code",
      "execution_count": null,
      "metadata": {
        "colab": {
          "base_uri": "https://localhost:8080/",
          "height": 541
        },
        "id": "es2ePfqJgynW",
        "outputId": "07584057-812b-493e-9743-e6025b95c667"
      },
      "outputs": [
        {
          "name": "stdout",
          "output_type": "stream",
          "text": [
            "\u001b[1m107/107\u001b[0m \u001b[32m━━━━━━━━━━━━━━━━━━━━\u001b[0m\u001b[37m\u001b[0m \u001b[1m16s\u001b[0m 147ms/step\n",
            "Confusion Matrix for LSTM Model:\n",
            "[[2948   71]\n",
            " [ 215  164]]\n"
          ]
        },
        {
          "data": {
            "image/png": "[encoded data removed]",
            "text/plain": [
              "<Figure size 640x480 with 2 Axes>"
            ]
          },
          "metadata": {},
          "output_type": "display_data"
        }
      ],
      "source": [
        "from sklearn.metrics import confusion_matrix, ConfusionMatrixDisplay\n",
        "import numpy as np\n",
        "import matplotlib.pyplot as plt # Make sure plt is imported\n",
        "\n",
        "# Get predictions on the test set using the 'lstm_model'\n",
        "# Since your output layer uses 'sigmoid' activation for binary classification,\n",
        "# the output is a probability between 0 and 1.\n",
        "# We need to convert these probabilities to binary class labels (0 or 1).\n",
        "# A common threshold is 0.5.\n",
        "y_pred_proba_lstm = lstm_model.predict(X_test)\n",
        "y_pred_lstm = (y_pred_proba_lstm > 0.5).astype(\"int32\")\n",
        "\n",
        "# Generate the confusion matrix for the LSTM model\n",
        "cm_lstm = confusion_matrix(y_test, y_pred_lstm)\n",
        "\n",
        "print(\"Confusion Matrix for LSTM Model:\")\n",
        "print(cm_lstm)\n",
        "\n",
        "# Create and plot the Confusion Matrix Display\n",
        "disp_lstm = ConfusionMatrixDisplay(confusion_matrix=cm_lstm, display_labels=[0, 1])\n",
        "\n",
        "# Plot the confusion matrix\n",
        "disp_lstm.plot(cmap=plt.cm.Blues)\n",
        "plt.title('Confusion Matrix for LSTM Model')\n",
        "plt.show()"
      ]
    },
    {
      "cell_type": "code",
      "execution_count": null,
      "metadata": {
        "colab": {
          "base_uri": "https://localhost:8080/"
        },
        "id": "eVgjT95bgy7V",
        "outputId": "6f486519-af31-4be3-c2fb-959502199a7a"
      },
      "outputs": [
        {
          "name": "stdout",
          "output_type": "stream",
          "text": [
            "\u001b[1m107/107\u001b[0m \u001b[32m━━━━━━━━━━━━━━━━━━━━\u001b[0m\u001b[37m\u001b[0m \u001b[1m15s\u001b[0m 143ms/step\n",
            "Classification Report (LSTM):\n",
            "              precision    recall  f1-score   support\n",
            "\n",
            "           0       0.93      0.98      0.95      3019\n",
            "           1       0.70      0.43      0.53       379\n",
            "\n",
            "    accuracy                           0.92      3398\n",
            "   macro avg       0.81      0.70      0.74      3398\n",
            "weighted avg       0.91      0.92      0.91      3398\n",
            "\n"
          ]
        }
      ],
      "source": [
        "# --- LSTM Model ---\n",
        "# Assuming you have y_test and lstm_model from the LSTM section\n",
        "# You'll need to generate predictions for the LSTM model first\n",
        "y_pred_proba_lstm = lstm_model.predict(X_test)\n",
        "y_pred_lstm = (y_pred_proba_lstm > 0.5).astype(\"int32\")\n",
        "\n",
        "print(\"Classification Report (LSTM):\")\n",
        "print(classification_report(y_test, y_pred_lstm))"
      ]
    },
    {
      "cell_type": "code",
      "source": [],
      "metadata": {
        "id": "inakY8vrUt0F"
      },
      "execution_count": null,
      "outputs": []
    }
  ],
  "metadata": {
    "colab": {
      "collapsed_sections": [
        "sleAXSv8Q963"
      ],
      "provenance": []
    },
    "kernelspec": {
      "display_name": "Python 3",
      "name": "python3"
    },
    "language_info": {
      "name": "python"
    }
  },
  "nbformat": 4,
  "nbformat_minor": 0
}